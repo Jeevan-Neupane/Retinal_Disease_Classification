{
  "nbformat": 4,
  "nbformat_minor": 0,
  "metadata": {
    "colab": {
      "provenance": [],
      "gpuType": "T4"
    },
    "kernelspec": {
      "name": "python3",
      "display_name": "Python 3"
    },
    "language_info": {
      "name": "python"
    },
    "accelerator": "GPU"
  },
  "cells": [
    {
      "cell_type": "code",
      "execution_count": null,
      "metadata": {
        "colab": {
          "base_uri": "https://localhost:8080/"
        },
        "id": "siQjJ2dglwIz",
        "outputId": "e7e9c312-59bc-42ab-8aa6-66b53ebacc34"
      },
      "outputs": [
        {
          "output_type": "stream",
          "name": "stdout",
          "text": [
            "Mounted at /content/drive\n"
          ]
        }
      ],
      "source": [
        "from google.colab import drive\n",
        "drive.mount('/content/drive')\n"
      ]
    },
    {
      "cell_type": "code",
      "source": [
        "!pip install efficientnet_pytorch\n",
        "!pip install tqdm\n",
        "!pip install wandb"
      ],
      "metadata": {
        "colab": {
          "base_uri": "https://localhost:8080/"
        },
        "id": "elUF3RgmnaM5",
        "outputId": "386dbd4e-2f67-4ae1-eb6d-9082f38bdc8e"
      },
      "execution_count": null,
      "outputs": [
        {
          "output_type": "stream",
          "name": "stdout",
          "text": [
            "Collecting efficientnet_pytorch\n",
            "  Downloading efficientnet_pytorch-0.7.1.tar.gz (21 kB)\n",
            "  Preparing metadata (setup.py) ... \u001b[?25l\u001b[?25hdone\n",
            "Requirement already satisfied: torch in /usr/local/lib/python3.11/dist-packages (from efficientnet_pytorch) (2.6.0+cu124)\n",
            "Requirement already satisfied: filelock in /usr/local/lib/python3.11/dist-packages (from torch->efficientnet_pytorch) (3.18.0)\n",
            "Requirement already satisfied: typing-extensions>=4.10.0 in /usr/local/lib/python3.11/dist-packages (from torch->efficientnet_pytorch) (4.13.2)\n",
            "Requirement already satisfied: networkx in /usr/local/lib/python3.11/dist-packages (from torch->efficientnet_pytorch) (3.4.2)\n",
            "Requirement already satisfied: jinja2 in /usr/local/lib/python3.11/dist-packages (from torch->efficientnet_pytorch) (3.1.6)\n",
            "Requirement already satisfied: fsspec in /usr/local/lib/python3.11/dist-packages (from torch->efficientnet_pytorch) (2025.3.2)\n",
            "Collecting nvidia-cuda-nvrtc-cu12==12.4.127 (from torch->efficientnet_pytorch)\n",
            "  Downloading nvidia_cuda_nvrtc_cu12-12.4.127-py3-none-manylinux2014_x86_64.whl.metadata (1.5 kB)\n",
            "Collecting nvidia-cuda-runtime-cu12==12.4.127 (from torch->efficientnet_pytorch)\n",
            "  Downloading nvidia_cuda_runtime_cu12-12.4.127-py3-none-manylinux2014_x86_64.whl.metadata (1.5 kB)\n",
            "Collecting nvidia-cuda-cupti-cu12==12.4.127 (from torch->efficientnet_pytorch)\n",
            "  Downloading nvidia_cuda_cupti_cu12-12.4.127-py3-none-manylinux2014_x86_64.whl.metadata (1.6 kB)\n",
            "Collecting nvidia-cudnn-cu12==9.1.0.70 (from torch->efficientnet_pytorch)\n",
            "  Downloading nvidia_cudnn_cu12-9.1.0.70-py3-none-manylinux2014_x86_64.whl.metadata (1.6 kB)\n",
            "Collecting nvidia-cublas-cu12==12.4.5.8 (from torch->efficientnet_pytorch)\n",
            "  Downloading nvidia_cublas_cu12-12.4.5.8-py3-none-manylinux2014_x86_64.whl.metadata (1.5 kB)\n",
            "Collecting nvidia-cufft-cu12==11.2.1.3 (from torch->efficientnet_pytorch)\n",
            "  Downloading nvidia_cufft_cu12-11.2.1.3-py3-none-manylinux2014_x86_64.whl.metadata (1.5 kB)\n",
            "Collecting nvidia-curand-cu12==10.3.5.147 (from torch->efficientnet_pytorch)\n",
            "  Downloading nvidia_curand_cu12-10.3.5.147-py3-none-manylinux2014_x86_64.whl.metadata (1.5 kB)\n",
            "Collecting nvidia-cusolver-cu12==11.6.1.9 (from torch->efficientnet_pytorch)\n",
            "  Downloading nvidia_cusolver_cu12-11.6.1.9-py3-none-manylinux2014_x86_64.whl.metadata (1.6 kB)\n",
            "Collecting nvidia-cusparse-cu12==12.3.1.170 (from torch->efficientnet_pytorch)\n",
            "  Downloading nvidia_cusparse_cu12-12.3.1.170-py3-none-manylinux2014_x86_64.whl.metadata (1.6 kB)\n",
            "Requirement already satisfied: nvidia-cusparselt-cu12==0.6.2 in /usr/local/lib/python3.11/dist-packages (from torch->efficientnet_pytorch) (0.6.2)\n",
            "Requirement already satisfied: nvidia-nccl-cu12==2.21.5 in /usr/local/lib/python3.11/dist-packages (from torch->efficientnet_pytorch) (2.21.5)\n",
            "Requirement already satisfied: nvidia-nvtx-cu12==12.4.127 in /usr/local/lib/python3.11/dist-packages (from torch->efficientnet_pytorch) (12.4.127)\n",
            "Collecting nvidia-nvjitlink-cu12==12.4.127 (from torch->efficientnet_pytorch)\n",
            "  Downloading nvidia_nvjitlink_cu12-12.4.127-py3-none-manylinux2014_x86_64.whl.metadata (1.5 kB)\n",
            "Requirement already satisfied: triton==3.2.0 in /usr/local/lib/python3.11/dist-packages (from torch->efficientnet_pytorch) (3.2.0)\n",
            "Requirement already satisfied: sympy==1.13.1 in /usr/local/lib/python3.11/dist-packages (from torch->efficientnet_pytorch) (1.13.1)\n",
            "Requirement already satisfied: mpmath<1.4,>=1.1.0 in /usr/local/lib/python3.11/dist-packages (from sympy==1.13.1->torch->efficientnet_pytorch) (1.3.0)\n",
            "Requirement already satisfied: MarkupSafe>=2.0 in /usr/local/lib/python3.11/dist-packages (from jinja2->torch->efficientnet_pytorch) (3.0.2)\n",
            "Downloading nvidia_cublas_cu12-12.4.5.8-py3-none-manylinux2014_x86_64.whl (363.4 MB)\n",
            "\u001b[2K   \u001b[90m━━━━━━━━━━━━━━━━━━━━━━━━━━━━━━━━━━━━━━━━\u001b[0m \u001b[32m363.4/363.4 MB\u001b[0m \u001b[31m4.0 MB/s\u001b[0m eta \u001b[36m0:00:00\u001b[0m\n",
            "\u001b[?25hDownloading nvidia_cuda_cupti_cu12-12.4.127-py3-none-manylinux2014_x86_64.whl (13.8 MB)\n",
            "\u001b[2K   \u001b[90m━━━━━━━━━━━━━━━━━━━━━━━━━━━━━━━━━━━━━━━━\u001b[0m \u001b[32m13.8/13.8 MB\u001b[0m \u001b[31m87.2 MB/s\u001b[0m eta \u001b[36m0:00:00\u001b[0m\n",
            "\u001b[?25hDownloading nvidia_cuda_nvrtc_cu12-12.4.127-py3-none-manylinux2014_x86_64.whl (24.6 MB)\n",
            "\u001b[2K   \u001b[90m━━━━━━━━━━━━━━━━━━━━━━━━━━━━━━━━━━━━━━━━\u001b[0m \u001b[32m24.6/24.6 MB\u001b[0m \u001b[31m72.0 MB/s\u001b[0m eta \u001b[36m0:00:00\u001b[0m\n",
            "\u001b[?25hDownloading nvidia_cuda_runtime_cu12-12.4.127-py3-none-manylinux2014_x86_64.whl (883 kB)\n",
            "\u001b[2K   \u001b[90m━━━━━━━━━━━━━━━━━━━━━━━━━━━━━━━━━━━━━━━━\u001b[0m \u001b[32m883.7/883.7 kB\u001b[0m \u001b[31m42.8 MB/s\u001b[0m eta \u001b[36m0:00:00\u001b[0m\n",
            "\u001b[?25hDownloading nvidia_cudnn_cu12-9.1.0.70-py3-none-manylinux2014_x86_64.whl (664.8 MB)\n",
            "\u001b[2K   \u001b[90m━━━━━━━━━━━━━━━━━━━━━━━━━━━━━━━━━━━━━━━━\u001b[0m \u001b[32m664.8/664.8 MB\u001b[0m \u001b[31m2.2 MB/s\u001b[0m eta \u001b[36m0:00:00\u001b[0m\n",
            "\u001b[?25hDownloading nvidia_cufft_cu12-11.2.1.3-py3-none-manylinux2014_x86_64.whl (211.5 MB)\n",
            "\u001b[2K   \u001b[90m━━━━━━━━━━━━━━━━━━━━━━━━━━━━━━━━━━━━━━━━\u001b[0m \u001b[32m211.5/211.5 MB\u001b[0m \u001b[31m5.5 MB/s\u001b[0m eta \u001b[36m0:00:00\u001b[0m\n",
            "\u001b[?25hDownloading nvidia_curand_cu12-10.3.5.147-py3-none-manylinux2014_x86_64.whl (56.3 MB)\n",
            "\u001b[2K   \u001b[90m━━━━━━━━━━━━━━━━━━━━━━━━━━━━━━━━━━━━━━━━\u001b[0m \u001b[32m56.3/56.3 MB\u001b[0m \u001b[31m13.7 MB/s\u001b[0m eta \u001b[36m0:00:00\u001b[0m\n",
            "\u001b[?25hDownloading nvidia_cusolver_cu12-11.6.1.9-py3-none-manylinux2014_x86_64.whl (127.9 MB)\n",
            "\u001b[2K   \u001b[90m━━━━━━━━━━━━━━━━━━━━━━━━━━━━━━━━━━━━━━━━\u001b[0m \u001b[32m127.9/127.9 MB\u001b[0m \u001b[31m7.5 MB/s\u001b[0m eta \u001b[36m0:00:00\u001b[0m\n",
            "\u001b[?25hDownloading nvidia_cusparse_cu12-12.3.1.170-py3-none-manylinux2014_x86_64.whl (207.5 MB)\n",
            "\u001b[2K   \u001b[90m━━━━━━━━━━━━━━━━━━━━━━━━━━━━━━━━━━━━━━━━\u001b[0m \u001b[32m207.5/207.5 MB\u001b[0m \u001b[31m7.0 MB/s\u001b[0m eta \u001b[36m0:00:00\u001b[0m\n",
            "\u001b[?25hDownloading nvidia_nvjitlink_cu12-12.4.127-py3-none-manylinux2014_x86_64.whl (21.1 MB)\n",
            "\u001b[2K   \u001b[90m━━━━━━━━━━━━━━━━━━━━━━━━━━━━━━━━━━━━━━━━\u001b[0m \u001b[32m21.1/21.1 MB\u001b[0m \u001b[31m86.3 MB/s\u001b[0m eta \u001b[36m0:00:00\u001b[0m\n",
            "\u001b[?25hBuilding wheels for collected packages: efficientnet_pytorch\n",
            "  Building wheel for efficientnet_pytorch (setup.py) ... \u001b[?25l\u001b[?25hdone\n",
            "  Created wheel for efficientnet_pytorch: filename=efficientnet_pytorch-0.7.1-py3-none-any.whl size=16426 sha256=7fb8bec5545a5503e50c7b1440d1f80fd54cdcd3946b836ec306a924b966a8a7\n",
            "  Stored in directory: /root/.cache/pip/wheels/8b/6f/9b/231a832f811ab6ebb1b32455b177ffc6b8b1cd8de19de70c09\n",
            "Successfully built efficientnet_pytorch\n",
            "Installing collected packages: nvidia-nvjitlink-cu12, nvidia-curand-cu12, nvidia-cufft-cu12, nvidia-cuda-runtime-cu12, nvidia-cuda-nvrtc-cu12, nvidia-cuda-cupti-cu12, nvidia-cublas-cu12, nvidia-cusparse-cu12, nvidia-cudnn-cu12, nvidia-cusolver-cu12, efficientnet_pytorch\n",
            "  Attempting uninstall: nvidia-nvjitlink-cu12\n",
            "    Found existing installation: nvidia-nvjitlink-cu12 12.5.82\n",
            "    Uninstalling nvidia-nvjitlink-cu12-12.5.82:\n",
            "      Successfully uninstalled nvidia-nvjitlink-cu12-12.5.82\n",
            "  Attempting uninstall: nvidia-curand-cu12\n",
            "    Found existing installation: nvidia-curand-cu12 10.3.6.82\n",
            "    Uninstalling nvidia-curand-cu12-10.3.6.82:\n",
            "      Successfully uninstalled nvidia-curand-cu12-10.3.6.82\n",
            "  Attempting uninstall: nvidia-cufft-cu12\n",
            "    Found existing installation: nvidia-cufft-cu12 11.2.3.61\n",
            "    Uninstalling nvidia-cufft-cu12-11.2.3.61:\n",
            "      Successfully uninstalled nvidia-cufft-cu12-11.2.3.61\n",
            "  Attempting uninstall: nvidia-cuda-runtime-cu12\n",
            "    Found existing installation: nvidia-cuda-runtime-cu12 12.5.82\n",
            "    Uninstalling nvidia-cuda-runtime-cu12-12.5.82:\n",
            "      Successfully uninstalled nvidia-cuda-runtime-cu12-12.5.82\n",
            "  Attempting uninstall: nvidia-cuda-nvrtc-cu12\n",
            "    Found existing installation: nvidia-cuda-nvrtc-cu12 12.5.82\n",
            "    Uninstalling nvidia-cuda-nvrtc-cu12-12.5.82:\n",
            "      Successfully uninstalled nvidia-cuda-nvrtc-cu12-12.5.82\n",
            "  Attempting uninstall: nvidia-cuda-cupti-cu12\n",
            "    Found existing installation: nvidia-cuda-cupti-cu12 12.5.82\n",
            "    Uninstalling nvidia-cuda-cupti-cu12-12.5.82:\n",
            "      Successfully uninstalled nvidia-cuda-cupti-cu12-12.5.82\n",
            "  Attempting uninstall: nvidia-cublas-cu12\n",
            "    Found existing installation: nvidia-cublas-cu12 12.5.3.2\n",
            "    Uninstalling nvidia-cublas-cu12-12.5.3.2:\n",
            "      Successfully uninstalled nvidia-cublas-cu12-12.5.3.2\n",
            "  Attempting uninstall: nvidia-cusparse-cu12\n",
            "    Found existing installation: nvidia-cusparse-cu12 12.5.1.3\n",
            "    Uninstalling nvidia-cusparse-cu12-12.5.1.3:\n",
            "      Successfully uninstalled nvidia-cusparse-cu12-12.5.1.3\n",
            "  Attempting uninstall: nvidia-cudnn-cu12\n",
            "    Found existing installation: nvidia-cudnn-cu12 9.3.0.75\n",
            "    Uninstalling nvidia-cudnn-cu12-9.3.0.75:\n",
            "      Successfully uninstalled nvidia-cudnn-cu12-9.3.0.75\n",
            "  Attempting uninstall: nvidia-cusolver-cu12\n",
            "    Found existing installation: nvidia-cusolver-cu12 11.6.3.83\n",
            "    Uninstalling nvidia-cusolver-cu12-11.6.3.83:\n",
            "      Successfully uninstalled nvidia-cusolver-cu12-11.6.3.83\n",
            "Successfully installed efficientnet_pytorch-0.7.1 nvidia-cublas-cu12-12.4.5.8 nvidia-cuda-cupti-cu12-12.4.127 nvidia-cuda-nvrtc-cu12-12.4.127 nvidia-cuda-runtime-cu12-12.4.127 nvidia-cudnn-cu12-9.1.0.70 nvidia-cufft-cu12-11.2.1.3 nvidia-curand-cu12-10.3.5.147 nvidia-cusolver-cu12-11.6.1.9 nvidia-cusparse-cu12-12.3.1.170 nvidia-nvjitlink-cu12-12.4.127\n",
            "Requirement already satisfied: tqdm in /usr/local/lib/python3.11/dist-packages (4.67.1)\n",
            "Requirement already satisfied: wandb in /usr/local/lib/python3.11/dist-packages (0.19.10)\n",
            "Requirement already satisfied: click!=8.0.0,>=7.1 in /usr/local/lib/python3.11/dist-packages (from wandb) (8.1.8)\n",
            "Requirement already satisfied: docker-pycreds>=0.4.0 in /usr/local/lib/python3.11/dist-packages (from wandb) (0.4.0)\n",
            "Requirement already satisfied: gitpython!=3.1.29,>=1.0.0 in /usr/local/lib/python3.11/dist-packages (from wandb) (3.1.44)\n",
            "Requirement already satisfied: platformdirs in /usr/local/lib/python3.11/dist-packages (from wandb) (4.3.7)\n",
            "Requirement already satisfied: protobuf!=4.21.0,!=5.28.0,<7,>=3.19.0 in /usr/local/lib/python3.11/dist-packages (from wandb) (5.29.4)\n",
            "Requirement already satisfied: psutil>=5.0.0 in /usr/local/lib/python3.11/dist-packages (from wandb) (5.9.5)\n",
            "Requirement already satisfied: pydantic<3 in /usr/local/lib/python3.11/dist-packages (from wandb) (2.11.3)\n",
            "Requirement already satisfied: pyyaml in /usr/local/lib/python3.11/dist-packages (from wandb) (6.0.2)\n",
            "Requirement already satisfied: requests<3,>=2.0.0 in /usr/local/lib/python3.11/dist-packages (from wandb) (2.32.3)\n",
            "Requirement already satisfied: sentry-sdk>=2.0.0 in /usr/local/lib/python3.11/dist-packages (from wandb) (2.27.0)\n",
            "Requirement already satisfied: setproctitle in /usr/local/lib/python3.11/dist-packages (from wandb) (1.3.5)\n",
            "Requirement already satisfied: setuptools in /usr/local/lib/python3.11/dist-packages (from wandb) (75.2.0)\n",
            "Requirement already satisfied: typing-extensions<5,>=4.4 in /usr/local/lib/python3.11/dist-packages (from wandb) (4.13.2)\n",
            "Requirement already satisfied: six>=1.4.0 in /usr/local/lib/python3.11/dist-packages (from docker-pycreds>=0.4.0->wandb) (1.17.0)\n",
            "Requirement already satisfied: gitdb<5,>=4.0.1 in /usr/local/lib/python3.11/dist-packages (from gitpython!=3.1.29,>=1.0.0->wandb) (4.0.12)\n",
            "Requirement already satisfied: annotated-types>=0.6.0 in /usr/local/lib/python3.11/dist-packages (from pydantic<3->wandb) (0.7.0)\n",
            "Requirement already satisfied: pydantic-core==2.33.1 in /usr/local/lib/python3.11/dist-packages (from pydantic<3->wandb) (2.33.1)\n",
            "Requirement already satisfied: typing-inspection>=0.4.0 in /usr/local/lib/python3.11/dist-packages (from pydantic<3->wandb) (0.4.0)\n",
            "Requirement already satisfied: charset-normalizer<4,>=2 in /usr/local/lib/python3.11/dist-packages (from requests<3,>=2.0.0->wandb) (3.4.1)\n",
            "Requirement already satisfied: idna<4,>=2.5 in /usr/local/lib/python3.11/dist-packages (from requests<3,>=2.0.0->wandb) (3.10)\n",
            "Requirement already satisfied: urllib3<3,>=1.21.1 in /usr/local/lib/python3.11/dist-packages (from requests<3,>=2.0.0->wandb) (2.4.0)\n",
            "Requirement already satisfied: certifi>=2017.4.17 in /usr/local/lib/python3.11/dist-packages (from requests<3,>=2.0.0->wandb) (2025.1.31)\n",
            "Requirement already satisfied: smmap<6,>=3.0.1 in /usr/local/lib/python3.11/dist-packages (from gitdb<5,>=4.0.1->gitpython!=3.1.29,>=1.0.0->wandb) (5.0.2)\n"
          ]
        }
      ]
    },
    {
      "cell_type": "code",
      "source": [
        "import torch\n",
        "import torch.nn as nn\n",
        "import torch.optim as optim\n",
        "from torch.utils.data import DataLoader\n",
        "from torchvision import transforms\n",
        "from efficientnet_pytorch import EfficientNet\n",
        "import pandas as pd\n",
        "from PIL import Image\n",
        "import os\n"
      ],
      "metadata": {
        "id": "8QW5MsRYnfZz"
      },
      "execution_count": null,
      "outputs": []
    },
    {
      "cell_type": "code",
      "source": [
        "class RetinalDataset(torch.utils.data.Dataset):\n",
        "    def __init__(self, csv_file, root_dir, transform=None):\n",
        "        self.data = pd.read_csv(csv_file)\n",
        "        self.root_dir = root_dir\n",
        "        self.transform = transform\n",
        "\n",
        "    def __len__(self):\n",
        "        return len(self.data)\n",
        "\n",
        "    def __getitem__(self, idx):\n",
        "        img_id = self.data.iloc[idx]['ID']\n",
        "        img_path = os.path.join(self.root_dir, f\"{img_id}.png\")\n",
        "        image = Image.open(img_path).convert('RGB')\n",
        "        label = self.data.iloc[idx]['Disease_Risk']\n",
        "\n",
        "        if self.transform:\n",
        "            image = self.transform(image)\n",
        "\n",
        "        return image, torch.tensor(label, dtype=torch.float32), img_id  # <<< Return img_id too\n"
      ],
      "metadata": {
        "id": "gbyhHkzVniVi"
      },
      "execution_count": null,
      "outputs": []
    },
    {
      "cell_type": "code",
      "source": [],
      "metadata": {
        "id": "ahkYU3okJIqr"
      },
      "execution_count": null,
      "outputs": []
    },
    {
      "cell_type": "code",
      "source": [],
      "metadata": {
        "id": "bSQzMYPWJIFn"
      },
      "execution_count": null,
      "outputs": []
    },
    {
      "cell_type": "code",
      "source": [
        "\n",
        "transform = transforms.Compose([\n",
        "    transforms.Resize((380, 380)),  # EfficientNet B4 input size is 380x380\n",
        "    transforms.ToTensor(),\n",
        "    transforms.Normalize([0.485, 0.456, 0.406], [0.229, 0.224, 0.225])  # Standard ImageNet normalization\n",
        "])\n",
        "\n",
        "# Load datasets\n",
        "train_dataset = RetinalDataset(\n",
        "    csv_file='/content/drive/MyDrive/eye_dataset/Training_Set/normalities_prob.csv',\n",
        "    root_dir='/content/drive/MyDrive/eye_dataset/Training_Set/Training',\n",
        "    transform=transform\n",
        ")\n",
        "\n",
        "val_dataset = RetinalDataset(\n",
        "    csv_file='/content/drive/MyDrive/eye_dataset/Evaluation_Set/normalities_prob_val.csv',\n",
        "    root_dir='/content/drive/MyDrive/eye_dataset/Evaluation_Set/Validation',\n",
        "    transform=transform\n",
        ")\n",
        "\n",
        "test_dataset=RetinalDataset(\n",
        "    csv_file='/content/drive/MyDrive/eye_dataset/Test_Set/normalities_prob.csv',\n",
        "    root_dir='/content/drive/MyDrive/eye_dataset/Test_Set/Test',\n",
        "    transform=transform\n",
        "\n",
        ")\n",
        "train_loader = DataLoader(train_dataset, batch_size=16, shuffle=True, num_workers=2)\n",
        "val_loader = DataLoader(val_dataset, batch_size=16, shuffle=False, num_workers=2)\n",
        "test_loader = DataLoader(test_dataset, batch_size=16, shuffle=False, num_workers=2)"
      ],
      "metadata": {
        "id": "sTmC1UkRn1gF"
      },
      "execution_count": null,
      "outputs": []
    },
    {
      "cell_type": "code",
      "source": [
        "print(len(train_dataset))\n",
        "print(len(val_dataset))\n",
        "print(len(test_dataset))\n",
        "\n",
        "print(\"Dataloader size \\n\")\n",
        "\n",
        "\n",
        "print(len(train_loader));\n",
        "print(len(val_loader));\n",
        "print(len(test_loader))"
      ],
      "metadata": {
        "colab": {
          "base_uri": "https://localhost:8080/"
        },
        "id": "39yxZdfPq94V",
        "outputId": "3f903de4-60ae-4775-f02b-687d5f80bdc3"
      },
      "execution_count": null,
      "outputs": [
        {
          "output_type": "stream",
          "name": "stdout",
          "text": [
            "1920\n",
            "640\n",
            "640\n",
            "Dataloader size \n",
            "\n",
            "120\n",
            "40\n",
            "40\n"
          ]
        }
      ]
    },
    {
      "cell_type": "code",
      "source": [
        "#Creating the subset from the val_loader\n",
        "\n",
        "import torch\n",
        "from torch.utils.data import DataLoader,Subset\n",
        "\n",
        "indices= list(range(160));\n",
        "\n",
        "val_subset_dataset= Subset(val_dataset,indices);\n",
        "\n",
        "val_subset_loader=DataLoader(val_subset_dataset,batch_size=16,shuffle=False,num_workers=2)\n",
        "\n",
        "\n"
      ],
      "metadata": {
        "id": "zYlBWYkbrJkH"
      },
      "execution_count": null,
      "outputs": []
    },
    {
      "cell_type": "code",
      "source": [
        "print(len(val_subset_dataset));\n",
        "print(len(val_subset_loader))"
      ],
      "metadata": {
        "colab": {
          "base_uri": "https://localhost:8080/"
        },
        "id": "semDbv6ruO4E",
        "outputId": "befc42be-ac8e-43fc-a06b-8154d807e340"
      },
      "execution_count": null,
      "outputs": [
        {
          "output_type": "stream",
          "name": "stdout",
          "text": [
            "160\n",
            "10\n"
          ]
        }
      ]
    },
    {
      "cell_type": "code",
      "source": [
        "# Load EfficientNet B2\n",
        "model = EfficientNet.from_pretrained('efficientnet-b4')\n",
        "\n",
        "# Modify the final fully connected layer\n",
        "model._fc = nn.Linear(model._fc.in_features, 1)\n"
      ],
      "metadata": {
        "colab": {
          "base_uri": "https://localhost:8080/"
        },
        "id": "-uq5HpcFuOzL",
        "outputId": "2a84b0ff-e8c6-4e70-9efb-b997f77cceb1"
      },
      "execution_count": null,
      "outputs": [
        {
          "output_type": "stream",
          "name": "stderr",
          "text": [
            "Downloading: \"https://github.com/lukemelas/EfficientNet-PyTorch/releases/download/1.0/efficientnet-b4-6ed6700e.pth\" to /root/.cache/torch/hub/checkpoints/efficientnet-b4-6ed6700e.pth\n",
            "100%|██████████| 74.4M/74.4M [00:01<00:00, 68.9MB/s]\n"
          ]
        },
        {
          "output_type": "stream",
          "name": "stdout",
          "text": [
            "Loaded pretrained weights for efficientnet-b4\n"
          ]
        }
      ]
    },
    {
      "cell_type": "code",
      "source": [
        "device = torch.device('cuda' if torch.cuda.is_available() else 'cpu')\n",
        "print(\"device\",device);"
      ],
      "metadata": {
        "colab": {
          "base_uri": "https://localhost:8080/"
        },
        "id": "48STjat1upfY",
        "outputId": "7a0106e1-26bb-4a9a-8645-1f65e4bcb7e2"
      },
      "execution_count": null,
      "outputs": [
        {
          "output_type": "stream",
          "name": "stdout",
          "text": [
            "device cuda\n"
          ]
        }
      ]
    },
    {
      "cell_type": "code",
      "source": [
        "model=model.to(device);\n",
        "criterion = nn.BCEWithLogitsLoss()  # because we have 1 output node\n",
        "optimizer = optim.Adam(model.parameters(), lr=0.0001)\n",
        "\n"
      ],
      "metadata": {
        "id": "n7oi1op4u0Sw"
      },
      "execution_count": null,
      "outputs": []
    },
    {
      "cell_type": "code",
      "source": [
        "import wandb\n",
        "wandb.login()"
      ],
      "metadata": {
        "colab": {
          "base_uri": "https://localhost:8080/",
          "height": 214
        },
        "id": "ny-ER5F9vTp9",
        "outputId": "5543aedb-7a9c-4662-8105-a87350fe4d86"
      },
      "execution_count": null,
      "outputs": [
        {
          "output_type": "display_data",
          "data": {
            "text/plain": [
              "<IPython.core.display.Javascript object>"
            ],
            "application/javascript": [
              "\n",
              "        window._wandbApiKey = new Promise((resolve, reject) => {\n",
              "            function loadScript(url) {\n",
              "            return new Promise(function(resolve, reject) {\n",
              "                let newScript = document.createElement(\"script\");\n",
              "                newScript.onerror = reject;\n",
              "                newScript.onload = resolve;\n",
              "                document.body.appendChild(newScript);\n",
              "                newScript.src = url;\n",
              "            });\n",
              "            }\n",
              "            loadScript(\"https://cdn.jsdelivr.net/npm/postmate/build/postmate.min.js\").then(() => {\n",
              "            const iframe = document.createElement('iframe')\n",
              "            iframe.style.cssText = \"width:0;height:0;border:none\"\n",
              "            document.body.appendChild(iframe)\n",
              "            const handshake = new Postmate({\n",
              "                container: iframe,\n",
              "                url: 'https://wandb.ai/authorize'\n",
              "            });\n",
              "            const timeout = setTimeout(() => reject(\"Couldn't auto authenticate\"), 5000)\n",
              "            handshake.then(function(child) {\n",
              "                child.on('authorize', data => {\n",
              "                    clearTimeout(timeout)\n",
              "                    resolve(data)\n",
              "                });\n",
              "            });\n",
              "            })\n",
              "        });\n",
              "    "
            ]
          },
          "metadata": {}
        },
        {
          "output_type": "stream",
          "name": "stderr",
          "text": [
            "\u001b[34m\u001b[1mwandb\u001b[0m: Logging into wandb.ai. (Learn how to deploy a W&B server locally: https://wandb.me/wandb-server)\n",
            "\u001b[34m\u001b[1mwandb\u001b[0m: You can find your API key in your browser here: https://wandb.ai/authorize\n",
            "wandb: Paste an API key from your profile and hit enter:"
          ]
        },
        {
          "name": "stdout",
          "output_type": "stream",
          "text": [
            " ··········\n"
          ]
        },
        {
          "output_type": "stream",
          "name": "stderr",
          "text": [
            "\u001b[34m\u001b[1mwandb\u001b[0m: \u001b[33mWARNING\u001b[0m If you're specifying your api key in code, ensure this code is not shared publicly.\n",
            "\u001b[34m\u001b[1mwandb\u001b[0m: \u001b[33mWARNING\u001b[0m Consider setting the WANDB_API_KEY environment variable, or running `wandb login` from the command line.\n",
            "\u001b[34m\u001b[1mwandb\u001b[0m: No netrc file found, creating one.\n",
            "\u001b[34m\u001b[1mwandb\u001b[0m: Appending key for api.wandb.ai to your netrc file: /root/.netrc\n",
            "\u001b[34m\u001b[1mwandb\u001b[0m: Currently logged in as: \u001b[33mjeevan-neupane002\u001b[0m (\u001b[33mjeevan-neupane002-nepal-applied-\u001b[0m) to \u001b[32mhttps://api.wandb.ai\u001b[0m. Use \u001b[1m`wandb login --relogin`\u001b[0m to force relogin\n"
          ]
        },
        {
          "output_type": "execute_result",
          "data": {
            "text/plain": [
              "True"
            ]
          },
          "metadata": {},
          "execution_count": 20
        }
      ]
    },
    {
      "cell_type": "code",
      "source": [
        "train_dataset_len=len(train_dataset);\n",
        "val_dataset_len=len(val_dataset);\n",
        "val_subset_dataset_len=len(val_subset_dataset);\n",
        "\n",
        "print(\"train_dataset_len \",train_dataset_len);\n",
        "print(\"val_dataset_len \",val_dataset_len);\n",
        "print(\"val_subset_dataset_len \",val_subset_dataset_len);"
      ],
      "metadata": {
        "colab": {
          "base_uri": "https://localhost:8080/"
        },
        "id": "8A2dhsxywPM8",
        "outputId": "62070e9f-a543-40cc-e239-14649d2ca068"
      },
      "execution_count": null,
      "outputs": [
        {
          "output_type": "stream",
          "name": "stdout",
          "text": [
            "train_dataset_len  1920\n",
            "val_dataset_len  640\n",
            "val_subset_dataset_len  160\n"
          ]
        }
      ]
    },
    {
      "cell_type": "code",
      "source": [
        "import torch\n",
        "import wandb\n",
        "from tqdm import tqdm\n",
        "\n",
        "# --- Initialize wandb ---\n",
        "wandb.init(project=\"Eye_Disease_Pred_b4\")\n",
        "\n",
        "# --- Hyperparameters ---\n",
        "num_epochs = 100\n",
        "validation_interval_batches = 20  # Validate on val_subset_loader every 20 batches\n",
        "early_stopping_patience = 5\n",
        "early_stopping_delta = 0.001\n",
        "\n",
        "# Trackers\n",
        "best_val_accuracy = 0.0\n",
        "early_stopping_counter = 0\n",
        "\n",
        "# --- Dataset lengths (you must define these) ---\n",
        "train_dataset_len = len(train_dataset)\n",
        "val_dataset_len = len(val_dataset)\n",
        "val_subset_dataset_len = len(val_subset_dataset)\n",
        "\n",
        "# --- Helper Functions ---\n",
        "def train_one_epoch(model, train_loader, val_subset_loader, optimizer, criterion, device, epoch):\n",
        "    model.train()\n",
        "    running_loss = 0.0\n",
        "    correct = 0\n",
        "    total = 0\n",
        "    train_loader_tqdm = tqdm(enumerate(train_loader), total=len(train_loader), desc=f\"Epoch {epoch+1} Training\", ncols=100)\n",
        "\n",
        "    for batch_idx, (batch_idx_data) in train_loader_tqdm:\n",
        "        inputs, labels = batch_idx_data[0], batch_idx_data[1]\n",
        "        inputs, labels = inputs.to(device), labels.to(device).unsqueeze(1)\n",
        "\n",
        "        optimizer.zero_grad()\n",
        "        outputs = model(inputs)\n",
        "        loss = criterion(outputs, labels)\n",
        "        loss.backward()\n",
        "        optimizer.step()\n",
        "\n",
        "        batch_size = inputs.size(0)\n",
        "        running_loss += loss.item() * batch_size\n",
        "\n",
        "        preds = torch.sigmoid(outputs) > 0.5\n",
        "        correct += (preds == labels.bool()).sum().item()\n",
        "        total += batch_size\n",
        "\n",
        "        # Log batch-wise training metrics\n",
        "        wandb.log({\n",
        "            \"train/loss_batch\": loss.item(),\n",
        "            \"train/accuracy_batch\": correct / total\n",
        "        }, step=epoch * len(train_loader) + batch_idx)\n",
        "\n",
        "        train_loader_tqdm.set_postfix(loss=loss.item())\n",
        "\n",
        "        # Validate on val_subset_loader every fixed number of batches\n",
        "        if (batch_idx + 1) % validation_interval_batches == 0:\n",
        "            val_subset_loss, val_subset_acc = validate(model, val_subset_loader, criterion, device, dataset_len=val_subset_dataset_len, subset=True)\n",
        "            wandb.log({\n",
        "                \"val_subset/loss\": val_subset_loss,\n",
        "                \"val_subset/accuracy\": val_subset_acc\n",
        "            }, step=epoch * len(train_loader) + batch_idx)\n",
        "            print(f\"🔎 Validation on val_subset after {batch_idx+1} batches: Loss={val_subset_loss:.4f} Acc={val_subset_acc:.4f}\")\n",
        "\n",
        "    avg_loss = running_loss / train_dataset_len\n",
        "    avg_acc = correct / total\n",
        "    return avg_loss, avg_acc\n",
        "\n",
        "\n",
        "def validate(model, loader, criterion, device, dataset_len, subset=False):\n",
        "    model.eval()\n",
        "    val_loss = 0.0\n",
        "    correct = 0\n",
        "    total = 0\n",
        "    desc = \"Validation Subset\" if subset else \"Validation Full\"\n",
        "    val_loader_tqdm = tqdm(loader, desc=desc, leave=False, ncols=100)\n",
        "\n",
        "    with torch.no_grad():\n",
        "        for batch_data in val_loader_tqdm:\n",
        "            inputs, labels = batch_data[0], batch_data[1]  # Correct unpacking\n",
        "            inputs, labels = inputs.to(device), labels.to(device).unsqueeze(1)\n",
        "\n",
        "            outputs = model(inputs)\n",
        "            loss = criterion(outputs, labels)\n",
        "\n",
        "            batch_size = inputs.size(0)\n",
        "            val_loss += loss.item() * batch_size\n",
        "\n",
        "            preds = torch.sigmoid(outputs) > 0.5\n",
        "            correct += (preds == labels.bool()).sum().item()\n",
        "            total += batch_size\n",
        "\n",
        "    avg_loss = val_loss / dataset_len\n",
        "    avg_acc = correct / total\n",
        "    return avg_loss, avg_acc\n",
        "\n",
        "\n",
        "def check_early_stopping(val_accuracy, best_val_accuracy, early_stopping_counter):\n",
        "    if val_accuracy > best_val_accuracy + early_stopping_delta:\n",
        "        best_val_accuracy = val_accuracy\n",
        "        early_stopping_counter = 0\n",
        "    else:\n",
        "        early_stopping_counter += 1\n",
        "    return best_val_accuracy, early_stopping_counter\n",
        "\n",
        "\n",
        "def save_best_model(model, path=\"/content/drive/MyDrive/eye_dataset/bestmodel/best_model.pth\"):\n",
        "    torch.save(model.state_dict(), path)\n",
        "    print(f\"✅ Best model saved to {path}\")\n",
        "\n",
        "\n",
        "# --- Training Loop ---\n",
        "for epoch in range(num_epochs):\n",
        "    # Train for one epoch\n",
        "    train_loss, train_acc = train_one_epoch(model, train_loader, val_subset_loader, optimizer, criterion, device, epoch)\n",
        "\n",
        "    # Log epoch-wise training metrics\n",
        "    wandb.log({\n",
        "        \"train/loss_epoch\": train_loss,\n",
        "        \"train/accuracy_epoch\": train_acc\n",
        "    }, step=(epoch+1) * len(train_loader))\n",
        "\n",
        "    # Validate on full val_loader after epoch\n",
        "    val_loss, val_accuracy = validate(model, val_loader, criterion, device, dataset_len=val_dataset_len, subset=False)\n",
        "\n",
        "    wandb.log({\n",
        "        \"val/loss_epoch\": val_loss,\n",
        "        \"val/accuracy_epoch\": val_accuracy\n",
        "    }, step=(epoch+1) * len(train_loader))\n",
        "\n",
        "    print(f\"Epoch {epoch+1} | Train Loss: {train_loss:.4f} | Train Acc: {train_acc:.4f} | Val Loss: {val_loss:.4f} | Val Acc: {val_accuracy:.4f}\")\n",
        "\n",
        "    # Early stopping and save best model\n",
        "    if val_accuracy > best_val_accuracy:\n",
        "        save_best_model(model)\n",
        "    best_val_accuracy, early_stopping_counter = check_early_stopping(val_accuracy, best_val_accuracy, early_stopping_counter)\n",
        "\n",
        "    if early_stopping_counter >= early_stopping_patience:\n",
        "        print(f\"⏹ Early stopping triggered at epoch {epoch+1}.\")\n",
        "        break\n",
        "\n",
        "# Finish wandb\n",
        "wandb.finish()\n"
      ],
      "metadata": {
        "id": "3eldFo-G24gq",
        "colab": {
          "base_uri": "https://localhost:8080/",
          "height": 1000
        },
        "outputId": "7f5224a6-f542-4a08-cf33-9a7bf898ff60"
      },
      "execution_count": null,
      "outputs": [
        {
          "output_type": "display_data",
          "data": {
            "text/plain": [
              "<IPython.core.display.HTML object>"
            ],
            "text/html": [
              "Tracking run with wandb version 0.19.10"
            ]
          },
          "metadata": {}
        },
        {
          "output_type": "display_data",
          "data": {
            "text/plain": [
              "<IPython.core.display.HTML object>"
            ],
            "text/html": [
              "Run data is saved locally in <code>/content/wandb/run-20250429_020748-mdul7z6a</code>"
            ]
          },
          "metadata": {}
        },
        {
          "output_type": "display_data",
          "data": {
            "text/plain": [
              "<IPython.core.display.HTML object>"
            ],
            "text/html": [
              "Syncing run <strong><a href='https://wandb.ai/jeevan-neupane002-nepal-applied-/Eye_Disease_Pred_b4/runs/mdul7z6a' target=\"_blank\">bumbling-microwave-1</a></strong> to <a href='https://wandb.ai/jeevan-neupane002-nepal-applied-/Eye_Disease_Pred_b4' target=\"_blank\">Weights & Biases</a> (<a href='https://wandb.me/developer-guide' target=\"_blank\">docs</a>)<br>"
            ]
          },
          "metadata": {}
        },
        {
          "output_type": "display_data",
          "data": {
            "text/plain": [
              "<IPython.core.display.HTML object>"
            ],
            "text/html": [
              " View project at <a href='https://wandb.ai/jeevan-neupane002-nepal-applied-/Eye_Disease_Pred_b4' target=\"_blank\">https://wandb.ai/jeevan-neupane002-nepal-applied-/Eye_Disease_Pred_b4</a>"
            ]
          },
          "metadata": {}
        },
        {
          "output_type": "display_data",
          "data": {
            "text/plain": [
              "<IPython.core.display.HTML object>"
            ],
            "text/html": [
              " View run at <a href='https://wandb.ai/jeevan-neupane002-nepal-applied-/Eye_Disease_Pred_b4/runs/mdul7z6a' target=\"_blank\">https://wandb.ai/jeevan-neupane002-nepal-applied-/Eye_Disease_Pred_b4/runs/mdul7z6a</a>"
            ]
          },
          "metadata": {}
        },
        {
          "output_type": "stream",
          "name": "stderr",
          "text": [
            "Epoch 1 Training:  16%|█████                           | 19/120 [02:09<12:24,  7.37s/it, loss=0.532]\n",
            "Validation Subset:   0%|                                                     | 0/10 [00:00<?, ?it/s]\u001b[A\n",
            "Validation Subset:  10%|████▌                                        | 1/10 [00:16<02:28, 16.48s/it]\u001b[A\n",
            "Validation Subset:  20%|█████████                                    | 2/10 [00:16<00:55,  6.93s/it]\u001b[A\n",
            "Validation Subset:  30%|█████████████▌                               | 3/10 [00:34<01:23, 11.95s/it]\u001b[A\n",
            "Validation Subset:  40%|██████████████████                           | 4/10 [00:34<00:43,  7.32s/it]\u001b[A\n",
            "Validation Subset:  50%|██████████████████████▌                      | 5/10 [00:51<00:53, 10.74s/it]\u001b[A\n",
            "Validation Subset:  60%|███████████████████████████                  | 6/10 [00:51<00:28,  7.16s/it]\u001b[A\n",
            "Validation Subset:  70%|███████████████████████████████▍             | 7/10 [01:04<00:26,  8.96s/it]\u001b[A\n",
            "Validation Subset:  80%|████████████████████████████████████         | 8/10 [01:04<00:12,  6.18s/it]\u001b[A\n",
            "Validation Subset:  90%|████████████████████████████████████████▌    | 9/10 [01:14<00:07,  7.36s/it]\u001b[A\n",
            "Validation Subset: 100%|████████████████████████████████████████████| 10/10 [01:14<00:00,  5.16s/it]\u001b[A\n",
            "Epoch 1 Training:  17%|█████▎                          | 20/120 [03:24<46:31, 27.91s/it, loss=0.532]"
          ]
        },
        {
          "output_type": "stream",
          "name": "stdout",
          "text": [
            "🔎 Validation on val_subset after 20 batches: Loss=0.5299 Acc=0.9625\n"
          ]
        },
        {
          "output_type": "stream",
          "name": "stderr",
          "text": [
            "Epoch 1 Training:  32%|██████████▍                     | 39/120 [04:55<07:38,  5.66s/it, loss=0.534]\n",
            "Validation Subset:   0%|                                                     | 0/10 [00:00<?, ?it/s]\u001b[A\n",
            "Validation Subset:  10%|████▌                                        | 1/10 [00:03<00:29,  3.31s/it]\u001b[A\n",
            "Validation Subset:  20%|█████████                                    | 2/10 [00:03<00:12,  1.52s/it]\u001b[A\n",
            "Validation Subset:  30%|█████████████▌                               | 3/10 [00:06<00:14,  2.04s/it]\u001b[A\n",
            "Validation Subset:  40%|██████████████████                           | 4/10 [00:06<00:08,  1.34s/it]\u001b[A\n",
            "Validation Subset:  50%|██████████████████████▌                      | 5/10 [00:12<00:14,  2.89s/it]\u001b[A\n",
            "Validation Subset:  60%|███████████████████████████                  | 6/10 [00:12<00:07,  1.99s/it]\u001b[A\n",
            "Validation Subset:  70%|███████████████████████████████▍             | 7/10 [00:15<00:06,  2.22s/it]\u001b[A\n",
            "Validation Subset:  80%|████████████████████████████████████         | 8/10 [00:15<00:03,  1.59s/it]\u001b[A\n",
            "Validation Subset:  90%|████████████████████████████████████████▌    | 9/10 [00:17<00:01,  1.82s/it]\u001b[A\n",
            "Validation Subset: 100%|████████████████████████████████████████████| 10/10 [00:17<00:00,  1.33s/it]\u001b[A\n",
            "Epoch 1 Training:  33%|██████████▋                     | 40/120 [05:13<12:45,  9.57s/it, loss=0.534]"
          ]
        },
        {
          "output_type": "stream",
          "name": "stdout",
          "text": [
            "🔎 Validation on val_subset after 40 batches: Loss=0.1740 Acc=0.9437\n"
          ]
        },
        {
          "output_type": "stream",
          "name": "stderr",
          "text": [
            "Epoch 1 Training:  49%|███████████████▋                | 59/120 [06:57<06:58,  6.86s/it, loss=0.301]\n",
            "Validation Subset:   0%|                                                     | 0/10 [00:00<?, ?it/s]\u001b[A\n",
            "Validation Subset:  10%|████▌                                        | 1/10 [00:03<00:32,  3.60s/it]\u001b[A\n",
            "Validation Subset:  20%|█████████                                    | 2/10 [00:03<00:13,  1.63s/it]\u001b[A\n",
            "Validation Subset:  30%|█████████████▌                               | 3/10 [00:06<00:14,  2.02s/it]\u001b[A\n",
            "Validation Subset:  40%|██████████████████                           | 4/10 [00:06<00:07,  1.32s/it]\u001b[A\n",
            "Validation Subset:  50%|██████████████████████▌                      | 5/10 [00:11<00:12,  2.55s/it]\u001b[A\n",
            "Validation Subset:  60%|███████████████████████████                  | 6/10 [00:11<00:07,  1.77s/it]\u001b[A\n",
            "Validation Subset:  70%|███████████████████████████████▍             | 7/10 [00:14<00:06,  2.23s/it]\u001b[A\n",
            "Validation Subset:  80%|████████████████████████████████████         | 8/10 [00:15<00:03,  1.60s/it]\u001b[A\n",
            "Validation Subset:  90%|████████████████████████████████████████▌    | 9/10 [00:17<00:01,  1.94s/it]\u001b[A\n",
            "Validation Subset: 100%|████████████████████████████████████████████| 10/10 [00:17<00:00,  1.41s/it]\u001b[A\n",
            "Epoch 1 Training:  50%|████████████████                | 60/120 [07:15<10:25, 10.43s/it, loss=0.301]"
          ]
        },
        {
          "output_type": "stream",
          "name": "stdout",
          "text": [
            "🔎 Validation on val_subset after 60 batches: Loss=0.4528 Acc=0.7000\n"
          ]
        },
        {
          "output_type": "stream",
          "name": "stderr",
          "text": [
            "Epoch 1 Training:  66%|█████████████████████           | 79/120 [08:52<03:53,  5.69s/it, loss=0.169]\n",
            "Validation Subset:   0%|                                                     | 0/10 [00:00<?, ?it/s]\u001b[A\n",
            "Validation Subset:  10%|████▌                                        | 1/10 [00:05<00:49,  5.56s/it]\u001b[A\n",
            "Validation Subset:  20%|█████████                                    | 2/10 [00:05<00:19,  2.44s/it]\u001b[A\n",
            "Validation Subset:  30%|█████████████▌                               | 3/10 [00:08<00:18,  2.69s/it]\u001b[A\n",
            "Validation Subset:  40%|██████████████████                           | 4/10 [00:09<00:10,  1.74s/it]\u001b[A\n",
            "Validation Subset:  50%|██████████████████████▌                      | 5/10 [00:11<00:10,  2.09s/it]\u001b[A\n",
            "Validation Subset:  60%|███████████████████████████                  | 6/10 [00:12<00:06,  1.51s/it]\u001b[A\n",
            "Validation Subset:  70%|███████████████████████████████▍             | 7/10 [00:14<00:05,  1.82s/it]\u001b[A\n",
            "Validation Subset:  80%|████████████████████████████████████         | 8/10 [00:14<00:02,  1.33s/it]\u001b[A\n",
            "Validation Subset:  90%|████████████████████████████████████████▌    | 9/10 [00:18<00:02,  2.12s/it]\u001b[A\n",
            "Validation Subset: 100%|████████████████████████████████████████████| 10/10 [00:19<00:00,  1.66s/it]\u001b[A\n",
            "Epoch 1 Training:  67%|█████████████████████▎          | 80/120 [09:11<07:27, 11.18s/it, loss=0.169]"
          ]
        },
        {
          "output_type": "stream",
          "name": "stdout",
          "text": [
            "🔎 Validation on val_subset after 80 batches: Loss=0.1907 Acc=0.9062\n"
          ]
        },
        {
          "output_type": "stream",
          "name": "stderr",
          "text": [
            "Epoch 1 Training:  82%|██████████████████████████▍     | 99/120 [10:49<01:58,  5.67s/it, loss=0.304]\n",
            "Validation Subset:   0%|                                                     | 0/10 [00:00<?, ?it/s]\u001b[A\n",
            "Validation Subset:  10%|████▌                                        | 1/10 [00:03<00:32,  3.60s/it]\u001b[A\n",
            "Validation Subset:  20%|█████████                                    | 2/10 [00:03<00:13,  1.63s/it]\u001b[A\n",
            "Validation Subset:  30%|█████████████▌                               | 3/10 [00:07<00:17,  2.57s/it]\u001b[A\n",
            "Validation Subset:  40%|██████████████████                           | 4/10 [00:07<00:09,  1.66s/it]\u001b[A\n",
            "Validation Subset:  50%|██████████████████████▌                      | 5/10 [00:11<00:12,  2.41s/it]\u001b[A\n",
            "Validation Subset:  60%|███████████████████████████                  | 6/10 [00:11<00:06,  1.67s/it]\u001b[A\n",
            "Validation Subset:  70%|███████████████████████████████▍             | 7/10 [00:14<00:06,  2.08s/it]\u001b[A\n",
            "Validation Subset:  80%|████████████████████████████████████         | 8/10 [00:14<00:03,  1.50s/it]\u001b[A\n",
            "Validation Subset:  90%|████████████████████████████████████████▌    | 9/10 [00:17<00:01,  1.80s/it]\u001b[A\n",
            "Validation Subset: 100%|████████████████████████████████████████████| 10/10 [00:17<00:00,  1.32s/it]\u001b[A\n",
            "Epoch 1 Training:  83%|█████████████████████████▊     | 100/120 [11:07<03:31, 10.56s/it, loss=0.304]"
          ]
        },
        {
          "output_type": "stream",
          "name": "stdout",
          "text": [
            "🔎 Validation on val_subset after 100 batches: Loss=0.2032 Acc=0.8688\n"
          ]
        },
        {
          "output_type": "stream",
          "name": "stderr",
          "text": [
            "Epoch 1 Training:  99%|██████████████████████████████▋| 119/120 [12:40<00:06,  6.37s/it, loss=0.248]\n",
            "Validation Subset:   0%|                                                     | 0/10 [00:00<?, ?it/s]\u001b[A\n",
            "Validation Subset:  10%|████▌                                        | 1/10 [00:03<00:27,  3.02s/it]\u001b[A\n",
            "Validation Subset:  20%|█████████                                    | 2/10 [00:03<00:11,  1.41s/it]\u001b[A\n",
            "Validation Subset:  30%|█████████████▌                               | 3/10 [00:06<00:16,  2.40s/it]\u001b[A\n",
            "Validation Subset:  40%|██████████████████                           | 4/10 [00:07<00:09,  1.55s/it]\u001b[A\n",
            "Validation Subset:  50%|██████████████████████▌                      | 5/10 [00:09<00:08,  1.75s/it]\u001b[A\n",
            "Validation Subset:  60%|███████████████████████████                  | 6/10 [00:09<00:04,  1.23s/it]\u001b[A\n",
            "Validation Subset:  70%|███████████████████████████████▍             | 7/10 [00:11<00:04,  1.50s/it]\u001b[A\n",
            "Validation Subset:  80%|████████████████████████████████████         | 8/10 [00:11<00:02,  1.10s/it]\u001b[A\n",
            "Validation Subset:  90%|████████████████████████████████████████▌    | 9/10 [00:13<00:01,  1.30s/it]\u001b[A\n",
            "Validation Subset: 100%|████████████████████████████████████████████| 10/10 [00:13<00:00,  1.03it/s]\u001b[A\n",
            "Epoch 1 Training: 100%|███████████████████████████████| 120/120 [12:54<00:00,  6.45s/it, loss=0.248]\n"
          ]
        },
        {
          "output_type": "stream",
          "name": "stdout",
          "text": [
            "🔎 Validation on val_subset after 120 batches: Loss=0.1302 Acc=0.9625\n"
          ]
        },
        {
          "output_type": "stream",
          "name": "stderr",
          "text": []
        },
        {
          "output_type": "stream",
          "name": "stdout",
          "text": [
            "Epoch 1 | Train Loss: 0.3636 | Train Acc: 0.8375 | Val Loss: 0.2613 | Val Acc: 0.8594\n",
            "✅ Best model saved to /content/drive/MyDrive/eye_dataset/bestmodel/best_model.pth\n"
          ]
        },
        {
          "output_type": "stream",
          "name": "stderr",
          "text": [
            "Epoch 2 Training:  16%|█████                           | 19/120 [00:45<04:12,  2.50s/it, loss=0.445]\n",
            "Validation Subset:   0%|                                                     | 0/10 [00:00<?, ?it/s]\u001b[A\n",
            "Validation Subset:  10%|████▌                                        | 1/10 [00:05<00:47,  5.27s/it]\u001b[A\n",
            "Validation Subset:  20%|█████████                                    | 2/10 [00:05<00:18,  2.31s/it]\u001b[A\n",
            "Validation Subset:  30%|█████████████▌                               | 3/10 [00:09<00:22,  3.19s/it]\u001b[A\n",
            "Validation Subset:  40%|██████████████████                           | 4/10 [00:10<00:12,  2.03s/it]\u001b[A\n",
            "Validation Subset:  50%|██████████████████████▌                      | 5/10 [00:13<00:12,  2.54s/it]\u001b[A\n",
            "Validation Subset:  60%|███████████████████████████                  | 6/10 [00:13<00:07,  1.76s/it]\u001b[A\n",
            "Validation Subset:  70%|███████████████████████████████▍             | 7/10 [00:15<00:05,  1.86s/it]\u001b[A\n",
            "Validation Subset:  80%|████████████████████████████████████         | 8/10 [00:15<00:02,  1.34s/it]\u001b[A\n",
            "Validation Subset:  90%|████████████████████████████████████████▌    | 9/10 [00:17<00:01,  1.52s/it]\u001b[A\n",
            "Validation Subset: 100%|████████████████████████████████████████████| 10/10 [00:18<00:00,  1.12s/it]\u001b[A\n",
            "Epoch 2 Training:  17%|█████▎                          | 20/120 [01:03<12:43,  7.64s/it, loss=0.445]"
          ]
        },
        {
          "output_type": "stream",
          "name": "stdout",
          "text": [
            "🔎 Validation on val_subset after 20 batches: Loss=0.1392 Acc=0.9625\n"
          ]
        },
        {
          "output_type": "stream",
          "name": "stderr",
          "text": [
            "Epoch 2 Training:  32%|██████████▍                     | 39/120 [01:44<02:39,  1.97s/it, loss=0.151]\n",
            "Validation Subset:   0%|                                                     | 0/10 [00:00<?, ?it/s]\u001b[A\n",
            "Validation Subset:  10%|████▌                                        | 1/10 [00:04<00:40,  4.54s/it]\u001b[A\n",
            "Validation Subset:  20%|█████████                                    | 2/10 [00:04<00:16,  2.01s/it]\u001b[A\n",
            "Validation Subset:  30%|█████████████▌                               | 3/10 [00:07<00:17,  2.47s/it]\u001b[A\n",
            "Validation Subset:  40%|██████████████████                           | 4/10 [00:08<00:09,  1.60s/it]\u001b[A\n",
            "Validation Subset:  50%|██████████████████████▌                      | 5/10 [00:11<00:11,  2.25s/it]\u001b[A\n",
            "Validation Subset:  60%|███████████████████████████                  | 6/10 [00:11<00:06,  1.57s/it]\u001b[A\n",
            "Validation Subset:  70%|███████████████████████████████▍             | 7/10 [00:14<00:05,  1.97s/it]\u001b[A\n",
            "Validation Subset:  80%|████████████████████████████████████         | 8/10 [00:14<00:02,  1.42s/it]\u001b[A\n",
            "Validation Subset:  90%|████████████████████████████████████████▌    | 9/10 [00:16<00:01,  1.55s/it]\u001b[A\n",
            "Validation Subset: 100%|████████████████████████████████████████████| 10/10 [00:16<00:00,  1.14s/it]\u001b[A\n",
            "Epoch 2 Training:  33%|██████████▋                     | 40/120 [02:01<10:43,  8.04s/it, loss=0.151]"
          ]
        },
        {
          "output_type": "stream",
          "name": "stdout",
          "text": [
            "🔎 Validation on val_subset after 40 batches: Loss=0.1727 Acc=0.9000\n"
          ]
        },
        {
          "output_type": "stream",
          "name": "stderr",
          "text": [
            "Epoch 2 Training:  49%|███████████████▋                | 59/120 [02:37<01:59,  1.96s/it, loss=0.267]\n",
            "Validation Subset:   0%|                                                     | 0/10 [00:00<?, ?it/s]\u001b[A\n",
            "Validation Subset:  10%|████▌                                        | 1/10 [00:06<01:00,  6.77s/it]\u001b[A\n",
            "Validation Subset:  20%|█████████                                    | 2/10 [00:07<00:23,  2.93s/it]\u001b[A\n",
            "Validation Subset:  30%|█████████████▌                               | 3/10 [00:10<00:23,  3.40s/it]\u001b[A\n",
            "Validation Subset:  40%|██████████████████                           | 4/10 [00:11<00:13,  2.17s/it]\u001b[A\n",
            "Validation Subset:  50%|██████████████████████▌                      | 5/10 [00:13<00:11,  2.23s/it]\u001b[A\n",
            "Validation Subset:  60%|███████████████████████████                  | 6/10 [00:13<00:06,  1.56s/it]\u001b[A\n",
            "Validation Subset:  70%|███████████████████████████████▍             | 7/10 [00:16<00:06,  2.07s/it]\u001b[A\n",
            "Validation Subset:  80%|████████████████████████████████████         | 8/10 [00:17<00:02,  1.49s/it]\u001b[A\n",
            "Validation Subset:  90%|████████████████████████████████████████▌    | 9/10 [00:19<00:01,  1.89s/it]\u001b[A\n",
            "Validation Subset: 100%|████████████████████████████████████████████| 10/10 [00:20<00:00,  1.37s/it]\u001b[A\n",
            "Epoch 2 Training:  50%|████████████████                | 60/120 [02:57<07:40,  7.68s/it, loss=0.267]"
          ]
        },
        {
          "output_type": "stream",
          "name": "stdout",
          "text": [
            "🔎 Validation on val_subset after 60 batches: Loss=0.1393 Acc=0.9375\n"
          ]
        },
        {
          "output_type": "stream",
          "name": "stderr",
          "text": [
            "Epoch 2 Training:  66%|█████████████████████           | 79/120 [03:34<01:19,  1.93s/it, loss=0.575]\n",
            "Validation Subset:   0%|                                                     | 0/10 [00:00<?, ?it/s]\u001b[A\n",
            "Validation Subset:  10%|████▌                                        | 1/10 [00:07<01:04,  7.21s/it]\u001b[A\n",
            "Validation Subset:  20%|█████████                                    | 2/10 [00:07<00:24,  3.12s/it]\u001b[A\n",
            "Validation Subset:  30%|█████████████▌                               | 3/10 [00:11<00:23,  3.32s/it]\u001b[A\n",
            "Validation Subset:  40%|██████████████████                           | 4/10 [00:11<00:12,  2.10s/it]\u001b[A\n",
            "Validation Subset:  50%|██████████████████████▌                      | 5/10 [00:14<00:12,  2.55s/it]\u001b[A\n",
            "Validation Subset:  60%|███████████████████████████                  | 6/10 [00:14<00:07,  1.77s/it]\u001b[A\n",
            "Validation Subset:  70%|███████████████████████████████▍             | 7/10 [00:17<00:05,  1.98s/it]\u001b[A\n",
            "Validation Subset:  80%|████████████████████████████████████         | 8/10 [00:17<00:02,  1.43s/it]\u001b[A\n",
            "Validation Subset:  90%|████████████████████████████████████████▌    | 9/10 [00:20<00:01,  1.97s/it]\u001b[A\n",
            "Validation Subset: 100%|████████████████████████████████████████████| 10/10 [00:20<00:00,  1.43s/it]\u001b[A\n",
            "Epoch 2 Training:  67%|█████████████████████▎          | 80/120 [03:55<05:33,  8.34s/it, loss=0.575]"
          ]
        },
        {
          "output_type": "stream",
          "name": "stdout",
          "text": [
            "🔎 Validation on val_subset after 80 batches: Loss=0.1331 Acc=0.9313\n"
          ]
        },
        {
          "output_type": "stream",
          "name": "stderr",
          "text": [
            "Epoch 2 Training:  82%|██████████████████████████▍     | 99/120 [04:34<00:49,  2.34s/it, loss=0.367]\n",
            "Validation Subset:   0%|                                                     | 0/10 [00:00<?, ?it/s]\u001b[A\n",
            "Validation Subset:  10%|████▌                                        | 1/10 [00:06<01:02,  6.97s/it]\u001b[A\n",
            "Validation Subset:  20%|█████████                                    | 2/10 [00:07<00:24,  3.01s/it]\u001b[A\n",
            "Validation Subset:  30%|█████████████▌                               | 3/10 [00:11<00:23,  3.37s/it]\u001b[A\n",
            "Validation Subset:  40%|██████████████████                           | 4/10 [00:11<00:12,  2.13s/it]\u001b[A\n",
            "Validation Subset:  50%|██████████████████████▌                      | 5/10 [00:14<00:12,  2.43s/it]\u001b[A\n",
            "Validation Subset:  60%|███████████████████████████                  | 6/10 [00:14<00:06,  1.69s/it]\u001b[A\n",
            "Validation Subset:  70%|███████████████████████████████▍             | 7/10 [00:17<00:06,  2.08s/it]\u001b[A\n",
            "Validation Subset:  80%|████████████████████████████████████         | 8/10 [00:17<00:02,  1.50s/it]\u001b[A\n",
            "Validation Subset:  90%|████████████████████████████████████████▌    | 9/10 [00:20<00:01,  1.92s/it]\u001b[A\n",
            "Validation Subset: 100%|████████████████████████████████████████████| 10/10 [00:20<00:00,  1.39s/it]\u001b[A\n",
            "Epoch 2 Training:  83%|█████████████████████████▊     | 100/120 [04:55<02:41,  8.08s/it, loss=0.367]"
          ]
        },
        {
          "output_type": "stream",
          "name": "stdout",
          "text": [
            "🔎 Validation on val_subset after 100 batches: Loss=0.1155 Acc=0.9375\n"
          ]
        },
        {
          "output_type": "stream",
          "name": "stderr",
          "text": [
            "Epoch 2 Training:  99%|██████████████████████████████▋| 119/120 [05:32<00:01,  1.61s/it, loss=0.306]\n",
            "Validation Subset:   0%|                                                     | 0/10 [00:00<?, ?it/s]\u001b[A\n",
            "Validation Subset:  10%|████▌                                        | 1/10 [00:03<00:29,  3.29s/it]\u001b[A\n",
            "Validation Subset:  20%|█████████                                    | 2/10 [00:03<00:12,  1.52s/it]\u001b[A\n",
            "Validation Subset:  30%|█████████████▌                               | 3/10 [00:06<00:15,  2.18s/it]\u001b[A\n",
            "Validation Subset:  40%|██████████████████                           | 4/10 [00:06<00:08,  1.42s/it]\u001b[A\n",
            "Validation Subset:  50%|██████████████████████▌                      | 5/10 [00:08<00:08,  1.63s/it]\u001b[A\n",
            "Validation Subset:  60%|███████████████████████████                  | 6/10 [00:09<00:04,  1.18s/it]\u001b[A\n",
            "Validation Subset:  70%|███████████████████████████████▍             | 7/10 [00:11<00:04,  1.42s/it]\u001b[A\n",
            "Validation Subset:  80%|████████████████████████████████████         | 8/10 [00:11<00:02,  1.09s/it]\u001b[A\n",
            "Validation Subset:  90%|████████████████████████████████████████▌    | 9/10 [00:13<00:01,  1.33s/it]\u001b[A\n",
            "Validation Subset: 100%|████████████████████████████████████████████| 10/10 [00:13<00:00,  1.00it/s]\u001b[A\n",
            "Epoch 2 Training: 100%|███████████████████████████████| 120/120 [05:46<00:00,  2.89s/it, loss=0.306]\n"
          ]
        },
        {
          "output_type": "stream",
          "name": "stdout",
          "text": [
            "🔎 Validation on val_subset after 120 batches: Loss=0.1835 Acc=0.8875\n"
          ]
        },
        {
          "output_type": "stream",
          "name": "stderr",
          "text": []
        },
        {
          "output_type": "stream",
          "name": "stdout",
          "text": [
            "Epoch 2 | Train Loss: 0.2660 | Train Acc: 0.8714 | Val Loss: 0.2699 | Val Acc: 0.8812\n",
            "✅ Best model saved to /content/drive/MyDrive/eye_dataset/bestmodel/best_model.pth\n"
          ]
        },
        {
          "output_type": "stream",
          "name": "stderr",
          "text": [
            "Epoch 3 Training:  16%|█████                           | 19/120 [00:50<04:28,  2.66s/it, loss=0.216]\n",
            "Validation Subset:   0%|                                                     | 0/10 [00:00<?, ?it/s]\u001b[A\n",
            "Validation Subset:  10%|████▌                                        | 1/10 [00:07<01:03,  7.03s/it]\u001b[A\n",
            "Validation Subset:  20%|█████████                                    | 2/10 [00:07<00:24,  3.05s/it]\u001b[A\n",
            "Validation Subset:  30%|█████████████▌                               | 3/10 [00:10<00:23,  3.29s/it]\u001b[A\n",
            "Validation Subset:  40%|██████████████████                           | 4/10 [00:11<00:12,  2.08s/it]\u001b[A\n",
            "Validation Subset:  50%|██████████████████████▌                      | 5/10 [00:12<00:10,  2.01s/it]\u001b[A\n",
            "Validation Subset:  60%|███████████████████████████                  | 6/10 [00:13<00:05,  1.41s/it]\u001b[A\n",
            "Validation Subset:  70%|███████████████████████████████▍             | 7/10 [00:15<00:04,  1.61s/it]\u001b[A\n",
            "Validation Subset:  80%|████████████████████████████████████         | 8/10 [00:15<00:02,  1.18s/it]\u001b[A\n",
            "Validation Subset:  90%|████████████████████████████████████████▌    | 9/10 [00:18<00:01,  1.83s/it]\u001b[A\n",
            "Validation Subset: 100%|████████████████████████████████████████████| 10/10 [00:19<00:00,  1.34s/it]\u001b[A\n",
            "Epoch 3 Training:  17%|█████▎                          | 20/120 [01:09<13:03,  7.83s/it, loss=0.216]"
          ]
        },
        {
          "output_type": "stream",
          "name": "stdout",
          "text": [
            "🔎 Validation on val_subset after 20 batches: Loss=0.2267 Acc=0.8875\n"
          ]
        },
        {
          "output_type": "stream",
          "name": "stderr",
          "text": [
            "Epoch 3 Training:  32%|██████████▍                     | 39/120 [01:46<03:02,  2.25s/it, loss=0.691]\n",
            "Validation Subset:   0%|                                                     | 0/10 [00:00<?, ?it/s]\u001b[A\n",
            "Validation Subset:  10%|████▌                                        | 1/10 [00:05<00:45,  5.06s/it]\u001b[A\n",
            "Validation Subset:  20%|█████████                                    | 2/10 [00:05<00:17,  2.24s/it]\u001b[A\n",
            "Validation Subset:  30%|█████████████▌                               | 3/10 [00:11<00:26,  3.82s/it]\u001b[A\n",
            "Validation Subset:  40%|██████████████████                           | 4/10 [00:11<00:14,  2.41s/it]\u001b[A\n",
            "Validation Subset:  50%|██████████████████████▌                      | 5/10 [00:14<00:13,  2.74s/it]\u001b[A\n",
            "Validation Subset:  60%|███████████████████████████                  | 6/10 [00:14<00:07,  1.89s/it]\u001b[A\n",
            "Validation Subset:  70%|███████████████████████████████▍             | 7/10 [00:17<00:06,  2.21s/it]\u001b[A\n",
            "Validation Subset:  80%|████████████████████████████████████         | 8/10 [00:17<00:03,  1.59s/it]\u001b[A\n",
            "Validation Subset:  90%|████████████████████████████████████████▌    | 9/10 [00:19<00:01,  1.63s/it]\u001b[A\n",
            "Validation Subset: 100%|████████████████████████████████████████████| 10/10 [00:19<00:00,  1.20s/it]\u001b[A\n",
            "Epoch 3 Training:  33%|██████████▋                     | 40/120 [02:06<11:00,  8.26s/it, loss=0.691]"
          ]
        },
        {
          "output_type": "stream",
          "name": "stdout",
          "text": [
            "🔎 Validation on val_subset after 40 batches: Loss=0.2540 Acc=0.8875\n"
          ]
        },
        {
          "output_type": "stream",
          "name": "stderr",
          "text": [
            "Epoch 3 Training:  49%|████████████████▏                | 59/120 [02:42<03:01,  2.97s/it, loss=0.18]\n",
            "Validation Subset:   0%|                                                     | 0/10 [00:00<?, ?it/s]\u001b[A\n",
            "Validation Subset:  10%|████▌                                        | 1/10 [00:04<00:44,  4.96s/it]\u001b[A\n",
            "Validation Subset:  20%|█████████                                    | 2/10 [00:05<00:17,  2.20s/it]\u001b[A\n",
            "Validation Subset:  30%|█████████████▌                               | 3/10 [00:09<00:21,  3.13s/it]\u001b[A\n",
            "Validation Subset:  40%|██████████████████                           | 4/10 [00:09<00:11,  2.00s/it]\u001b[A\n",
            "Validation Subset:  50%|██████████████████████▌                      | 5/10 [00:14<00:14,  2.92s/it]\u001b[A\n",
            "Validation Subset:  60%|███████████████████████████                  | 6/10 [00:14<00:08,  2.02s/it]\u001b[A\n",
            "Validation Subset:  70%|███████████████████████████████▍             | 7/10 [00:16<00:06,  2.07s/it]\u001b[A\n",
            "Validation Subset:  80%|████████████████████████████████████         | 8/10 [00:16<00:02,  1.49s/it]\u001b[A\n",
            "Validation Subset:  90%|████████████████████████████████████████▌    | 9/10 [00:18<00:01,  1.58s/it]\u001b[A\n",
            "Validation Subset: 100%|████████████████████████████████████████████| 10/10 [00:18<00:00,  1.16s/it]\u001b[A\n",
            "Epoch 3 Training:  50%|████████████████▌                | 60/120 [03:01<08:01,  8.02s/it, loss=0.18]"
          ]
        },
        {
          "output_type": "stream",
          "name": "stdout",
          "text": [
            "🔎 Validation on val_subset after 60 batches: Loss=0.1845 Acc=0.9250\n"
          ]
        },
        {
          "output_type": "stream",
          "name": "stderr",
          "text": [
            "Epoch 3 Training:  66%|█████████████████████           | 79/120 [03:41<02:06,  3.09s/it, loss=0.127]\n",
            "Validation Subset:   0%|                                                     | 0/10 [00:00<?, ?it/s]\u001b[A\n",
            "Validation Subset:  10%|████▌                                        | 1/10 [00:05<00:47,  5.30s/it]\u001b[A\n",
            "Validation Subset:  20%|█████████                                    | 2/10 [00:05<00:18,  2.33s/it]\u001b[A\n",
            "Validation Subset:  30%|█████████████▌                               | 3/10 [00:09<00:22,  3.17s/it]\u001b[A\n",
            "Validation Subset:  40%|██████████████████                           | 4/10 [00:09<00:12,  2.03s/it]\u001b[A\n",
            "Validation Subset:  50%|██████████████████████▌                      | 5/10 [00:13<00:13,  2.68s/it]\u001b[A\n",
            "Validation Subset:  60%|███████████████████████████                  | 6/10 [00:14<00:07,  1.85s/it]\u001b[A\n",
            "Validation Subset:  70%|███████████████████████████████▍             | 7/10 [00:16<00:05,  1.91s/it]\u001b[A\n",
            "Validation Subset:  80%|████████████████████████████████████         | 8/10 [00:16<00:02,  1.38s/it]\u001b[A\n",
            "Validation Subset:  90%|████████████████████████████████████████▌    | 9/10 [00:18<00:01,  1.53s/it]\u001b[A\n",
            "Validation Subset: 100%|████████████████████████████████████████████| 10/10 [00:18<00:00,  1.12s/it]\u001b[A\n",
            "Epoch 3 Training:  67%|█████████████████████▎          | 80/120 [04:00<05:17,  7.93s/it, loss=0.127]"
          ]
        },
        {
          "output_type": "stream",
          "name": "stdout",
          "text": [
            "🔎 Validation on val_subset after 80 batches: Loss=0.2454 Acc=0.8875\n"
          ]
        },
        {
          "output_type": "stream",
          "name": "stderr",
          "text": [
            "Epoch 3 Training:  82%|██████████████████████████▍     | 99/120 [04:40<00:49,  2.36s/it, loss=0.416]\n",
            "Validation Subset:   0%|                                                     | 0/10 [00:00<?, ?it/s]\u001b[A\n",
            "Validation Subset:  10%|████▌                                        | 1/10 [00:05<00:46,  5.16s/it]\u001b[A\n",
            "Validation Subset:  20%|█████████                                    | 2/10 [00:05<00:18,  2.27s/it]\u001b[A\n",
            "Validation Subset:  30%|█████████████▌                               | 3/10 [00:09<00:21,  3.10s/it]\u001b[A\n",
            "Validation Subset:  40%|██████████████████                           | 4/10 [00:09<00:11,  1.98s/it]\u001b[A\n",
            "Validation Subset:  50%|██████████████████████▌                      | 5/10 [00:13<00:12,  2.49s/it]\u001b[A\n",
            "Validation Subset:  60%|███████████████████████████                  | 6/10 [00:13<00:06,  1.73s/it]\u001b[A\n",
            "Validation Subset:  70%|███████████████████████████████▍             | 7/10 [00:15<00:05,  1.86s/it]\u001b[A\n",
            "Validation Subset:  80%|████████████████████████████████████         | 8/10 [00:15<00:02,  1.34s/it]\u001b[A\n",
            "Validation Subset:  90%|████████████████████████████████████████▌    | 9/10 [00:17<00:01,  1.49s/it]\u001b[A\n",
            "Validation Subset: 100%|████████████████████████████████████████████| 10/10 [00:17<00:00,  1.10s/it]\u001b[A\n",
            "Epoch 3 Training:  83%|█████████████████████████▊     | 100/120 [04:58<02:24,  7.25s/it, loss=0.416]"
          ]
        },
        {
          "output_type": "stream",
          "name": "stdout",
          "text": [
            "🔎 Validation on val_subset after 100 batches: Loss=0.2452 Acc=0.8812\n"
          ]
        },
        {
          "output_type": "stream",
          "name": "stderr",
          "text": [
            "Epoch 3 Training:  99%|██████████████████████████████▋| 119/120 [05:32<00:01,  1.76s/it, loss=0.147]\n",
            "Validation Subset:   0%|                                                     | 0/10 [00:00<?, ?it/s]\u001b[A\n",
            "Validation Subset:  10%|████▌                                        | 1/10 [00:03<00:33,  3.75s/it]\u001b[A\n",
            "Validation Subset:  20%|█████████                                    | 2/10 [00:04<00:13,  1.72s/it]\u001b[A\n",
            "Validation Subset:  30%|█████████████▌                               | 3/10 [00:06<00:14,  2.07s/it]\u001b[A\n",
            "Validation Subset:  40%|██████████████████                           | 4/10 [00:06<00:08,  1.35s/it]\u001b[A\n",
            "Validation Subset:  50%|██████████████████████▌                      | 5/10 [00:08<00:08,  1.63s/it]\u001b[A\n",
            "Validation Subset:  60%|███████████████████████████                  | 6/10 [00:09<00:04,  1.16s/it]\u001b[A\n",
            "Validation Subset:  70%|███████████████████████████████▍             | 7/10 [00:11<00:04,  1.51s/it]\u001b[A\n",
            "Validation Subset:  80%|████████████████████████████████████         | 8/10 [00:11<00:02,  1.11s/it]\u001b[A\n",
            "Validation Subset:  90%|████████████████████████████████████████▌    | 9/10 [00:13<00:01,  1.38s/it]\u001b[A\n",
            "Validation Subset: 100%|████████████████████████████████████████████| 10/10 [00:13<00:00,  1.02s/it]\u001b[A\n",
            "Epoch 3 Training: 100%|███████████████████████████████| 120/120 [05:46<00:00,  2.89s/it, loss=0.147]\n"
          ]
        },
        {
          "output_type": "stream",
          "name": "stdout",
          "text": [
            "🔎 Validation on val_subset after 120 batches: Loss=0.2340 Acc=0.8688\n"
          ]
        },
        {
          "output_type": "stream",
          "name": "stderr",
          "text": [
            "                                                                                                    "
          ]
        },
        {
          "output_type": "stream",
          "name": "stdout",
          "text": [
            "Epoch 3 | Train Loss: 0.1975 | Train Acc: 0.9161 | Val Loss: 0.2790 | Val Acc: 0.8609\n"
          ]
        },
        {
          "output_type": "stream",
          "name": "stderr",
          "text": [
            "Epoch 4 Training:  16%|█████                           | 19/120 [00:44<04:01,  2.39s/it, loss=0.308]\n",
            "Validation Subset:   0%|                                                     | 0/10 [00:00<?, ?it/s]\u001b[A\n",
            "Validation Subset:  10%|████▌                                        | 1/10 [00:04<00:42,  4.75s/it]\u001b[A\n",
            "Validation Subset:  20%|█████████                                    | 2/10 [00:05<00:16,  2.10s/it]\u001b[A\n",
            "Validation Subset:  30%|█████████████▌                               | 3/10 [00:10<00:26,  3.76s/it]\u001b[A\n",
            "Validation Subset:  40%|██████████████████                           | 4/10 [00:10<00:14,  2.37s/it]\u001b[A\n",
            "Validation Subset:  50%|██████████████████████▌                      | 5/10 [00:14<00:13,  2.71s/it]\u001b[A\n",
            "Validation Subset:  60%|███████████████████████████                  | 6/10 [00:14<00:07,  1.87s/it]\u001b[A\n",
            "Validation Subset:  70%|███████████████████████████████▍             | 7/10 [00:16<00:06,  2.06s/it]\u001b[A\n",
            "Validation Subset:  80%|████████████████████████████████████         | 8/10 [00:17<00:02,  1.48s/it]\u001b[A\n",
            "Validation Subset:  90%|████████████████████████████████████████▌    | 9/10 [00:19<00:01,  1.63s/it]\u001b[A\n",
            "Validation Subset: 100%|████████████████████████████████████████████| 10/10 [00:19<00:00,  1.19s/it]\u001b[A\n",
            "Epoch 4 Training:  17%|█████▎                          | 20/120 [01:03<12:55,  7.75s/it, loss=0.308]"
          ]
        },
        {
          "output_type": "stream",
          "name": "stdout",
          "text": [
            "🔎 Validation on val_subset after 20 batches: Loss=0.3391 Acc=0.8125\n"
          ]
        },
        {
          "output_type": "stream",
          "name": "stderr",
          "text": [
            "Epoch 4 Training:  32%|██████████                     | 39/120 [01:42<03:23,  2.51s/it, loss=0.0637]\n",
            "Validation Subset:   0%|                                                     | 0/10 [00:00<?, ?it/s]\u001b[A\n",
            "Validation Subset:  10%|████▌                                        | 1/10 [00:04<00:44,  4.92s/it]\u001b[A\n",
            "Validation Subset:  20%|█████████                                    | 2/10 [00:05<00:17,  2.19s/it]\u001b[A\n",
            "Validation Subset:  30%|█████████████▌                               | 3/10 [00:10<00:24,  3.46s/it]\u001b[A\n",
            "Validation Subset:  40%|██████████████████                           | 4/10 [00:10<00:13,  2.21s/it]\u001b[A\n",
            "Validation Subset:  50%|██████████████████████▌                      | 5/10 [00:14<00:14,  2.96s/it]\u001b[A\n",
            "Validation Subset:  60%|███████████████████████████                  | 6/10 [00:15<00:08,  2.04s/it]\u001b[A\n",
            "Validation Subset:  70%|███████████████████████████████▍             | 7/10 [00:17<00:06,  2.04s/it]\u001b[A\n",
            "Validation Subset:  80%|████████████████████████████████████         | 8/10 [00:17<00:02,  1.47s/it]\u001b[A\n",
            "Validation Subset:  90%|████████████████████████████████████████▌    | 9/10 [00:19<00:01,  1.59s/it]\u001b[A\n",
            "Validation Subset: 100%|████████████████████████████████████████████| 10/10 [00:19<00:00,  1.17s/it]\u001b[A\n",
            "Epoch 4 Training:  33%|██████████▎                    | 40/120 [02:02<10:25,  7.82s/it, loss=0.0637]"
          ]
        },
        {
          "output_type": "stream",
          "name": "stdout",
          "text": [
            "🔎 Validation on val_subset after 40 batches: Loss=0.2306 Acc=0.9062\n"
          ]
        },
        {
          "output_type": "stream",
          "name": "stderr",
          "text": [
            "Epoch 4 Training:  49%|███████████████▏               | 59/120 [02:42<02:57,  2.91s/it, loss=0.0482]\n",
            "Validation Subset:   0%|                                                     | 0/10 [00:00<?, ?it/s]\u001b[A\n",
            "Validation Subset:  10%|████▌                                        | 1/10 [00:04<00:44,  4.92s/it]\u001b[A\n",
            "Validation Subset:  20%|█████████                                    | 2/10 [00:05<00:17,  2.18s/it]\u001b[A\n",
            "Validation Subset:  30%|█████████████▌                               | 3/10 [00:10<00:25,  3.61s/it]\u001b[A\n",
            "Validation Subset:  40%|██████████████████                           | 4/10 [00:10<00:13,  2.30s/it]\u001b[A\n",
            "Validation Subset:  50%|██████████████████████▌                      | 5/10 [00:14<00:13,  2.64s/it]\u001b[A\n",
            "Validation Subset:  60%|███████████████████████████                  | 6/10 [00:14<00:07,  1.83s/it]\u001b[A\n",
            "Validation Subset:  70%|███████████████████████████████▍             | 7/10 [00:16<00:05,  1.93s/it]\u001b[A\n",
            "Validation Subset:  80%|████████████████████████████████████         | 8/10 [00:16<00:02,  1.40s/it]\u001b[A\n",
            "Validation Subset:  90%|████████████████████████████████████████▌    | 9/10 [00:18<00:01,  1.57s/it]\u001b[A\n",
            "Validation Subset: 100%|████████████████████████████████████████████| 10/10 [00:18<00:00,  1.16s/it]\u001b[A\n",
            "Epoch 4 Training:  50%|███████████████▌               | 60/120 [03:01<07:56,  7.94s/it, loss=0.0482]"
          ]
        },
        {
          "output_type": "stream",
          "name": "stdout",
          "text": [
            "🔎 Validation on val_subset after 60 batches: Loss=0.2323 Acc=0.9062\n"
          ]
        },
        {
          "output_type": "stream",
          "name": "stderr",
          "text": [
            "Epoch 4 Training:  66%|████████████████████▍          | 79/120 [03:42<01:26,  2.11s/it, loss=0.0707]\n",
            "Validation Subset:   0%|                                                     | 0/10 [00:00<?, ?it/s]\u001b[A\n",
            "Validation Subset:  10%|████▌                                        | 1/10 [00:03<00:34,  3.84s/it]\u001b[A\n",
            "Validation Subset:  20%|█████████                                    | 2/10 [00:04<00:13,  1.73s/it]\u001b[A\n",
            "Validation Subset:  30%|█████████████▌                               | 3/10 [00:07<00:18,  2.61s/it]\u001b[A\n",
            "Validation Subset:  40%|██████████████████                           | 4/10 [00:08<00:10,  1.69s/it]\u001b[A\n",
            "Validation Subset:  50%|██████████████████████▌                      | 5/10 [00:11<00:12,  2.41s/it]\u001b[A\n",
            "Validation Subset:  60%|███████████████████████████                  | 6/10 [00:11<00:06,  1.68s/it]\u001b[A\n",
            "Validation Subset:  70%|███████████████████████████████▍             | 7/10 [00:14<00:05,  1.82s/it]\u001b[A\n",
            "Validation Subset:  80%|████████████████████████████████████         | 8/10 [00:14<00:02,  1.32s/it]\u001b[A\n",
            "Validation Subset:  90%|████████████████████████████████████████▌    | 9/10 [00:16<00:01,  1.50s/it]\u001b[A\n",
            "Validation Subset: 100%|████████████████████████████████████████████| 10/10 [00:16<00:00,  1.10s/it]\u001b[A\n",
            "Epoch 4 Training:  67%|████████████████████▋          | 80/120 [03:58<04:58,  7.45s/it, loss=0.0707]"
          ]
        },
        {
          "output_type": "stream",
          "name": "stdout",
          "text": [
            "🔎 Validation on val_subset after 80 batches: Loss=0.1978 Acc=0.9563\n"
          ]
        },
        {
          "output_type": "stream",
          "name": "stderr",
          "text": [
            "Epoch 4 Training:  82%|██████████████████████████▍     | 99/120 [04:37<00:38,  1.81s/it, loss=0.288]\n",
            "Validation Subset:   0%|                                                     | 0/10 [00:00<?, ?it/s]\u001b[A\n",
            "Validation Subset:  10%|████▌                                        | 1/10 [00:04<00:37,  4.14s/it]\u001b[A\n",
            "Validation Subset:  20%|█████████                                    | 2/10 [00:04<00:14,  1.85s/it]\u001b[A\n",
            "Validation Subset:  30%|█████████████▌                               | 3/10 [00:07<00:16,  2.42s/it]\u001b[A\n",
            "Validation Subset:  40%|██████████████████                           | 4/10 [00:07<00:09,  1.55s/it]\u001b[A\n",
            "Validation Subset:  50%|██████████████████████▌                      | 5/10 [00:10<00:09,  1.90s/it]\u001b[A\n",
            "Validation Subset:  60%|███████████████████████████                  | 6/10 [00:10<00:05,  1.37s/it]\u001b[A\n",
            "Validation Subset:  70%|███████████████████████████████▍             | 7/10 [00:14<00:06,  2.10s/it]\u001b[A\n",
            "Validation Subset:  80%|████████████████████████████████████         | 8/10 [00:14<00:03,  1.51s/it]\u001b[A\n",
            "Validation Subset:  90%|████████████████████████████████████████▌    | 9/10 [00:16<00:01,  1.61s/it]\u001b[A\n",
            "Validation Subset: 100%|████████████████████████████████████████████| 10/10 [00:16<00:00,  1.18s/it]\u001b[A\n",
            "Epoch 4 Training:  83%|█████████████████████████▊     | 100/120 [04:54<02:38,  7.93s/it, loss=0.288]"
          ]
        },
        {
          "output_type": "stream",
          "name": "stdout",
          "text": [
            "🔎 Validation on val_subset after 100 batches: Loss=0.2299 Acc=0.9000\n"
          ]
        },
        {
          "output_type": "stream",
          "name": "stderr",
          "text": [
            "Epoch 4 Training:  99%|█████████████████████████████▊| 119/120 [05:32<00:02,  2.41s/it, loss=0.0375]\n",
            "Validation Subset:   0%|                                                     | 0/10 [00:00<?, ?it/s]\u001b[A\n",
            "Validation Subset:  10%|████▌                                        | 1/10 [00:03<00:32,  3.66s/it]\u001b[A\n",
            "Validation Subset:  20%|█████████                                    | 2/10 [00:03<00:13,  1.66s/it]\u001b[A\n",
            "Validation Subset:  30%|█████████████▌                               | 3/10 [00:05<00:12,  1.78s/it]\u001b[A\n",
            "Validation Subset:  40%|██████████████████                           | 4/10 [00:06<00:07,  1.17s/it]\u001b[A\n",
            "Validation Subset:  50%|██████████████████████▌                      | 5/10 [00:08<00:07,  1.47s/it]\u001b[A\n",
            "Validation Subset:  60%|███████████████████████████                  | 6/10 [00:08<00:04,  1.06s/it]\u001b[A\n",
            "Validation Subset:  70%|███████████████████████████████▍             | 7/10 [00:10<00:04,  1.40s/it]\u001b[A\n",
            "Validation Subset:  80%|████████████████████████████████████         | 8/10 [00:10<00:02,  1.03s/it]\u001b[A\n",
            "Validation Subset:  90%|████████████████████████████████████████▌    | 9/10 [00:12<00:01,  1.27s/it]\u001b[A\n",
            "Validation Subset: 100%|████████████████████████████████████████████| 10/10 [00:12<00:00,  1.06it/s]\u001b[A\n",
            "Epoch 4 Training: 100%|██████████████████████████████| 120/120 [05:45<00:00,  2.88s/it, loss=0.0375]\n"
          ]
        },
        {
          "output_type": "stream",
          "name": "stdout",
          "text": [
            "🔎 Validation on val_subset after 120 batches: Loss=0.2425 Acc=0.8938\n"
          ]
        },
        {
          "output_type": "stream",
          "name": "stderr",
          "text": []
        },
        {
          "output_type": "stream",
          "name": "stdout",
          "text": [
            "Epoch 4 | Train Loss: 0.1403 | Train Acc: 0.9432 | Val Loss: 0.2885 | Val Acc: 0.8875\n",
            "✅ Best model saved to /content/drive/MyDrive/eye_dataset/bestmodel/best_model.pth\n"
          ]
        },
        {
          "output_type": "stream",
          "name": "stderr",
          "text": [
            "Epoch 5 Training:  16%|█████                           | 19/120 [00:47<03:23,  2.01s/it, loss=0.398]\n",
            "Validation Subset:   0%|                                                     | 0/10 [00:00<?, ?it/s]\u001b[A\n",
            "Validation Subset:  10%|████▌                                        | 1/10 [00:06<01:01,  6.85s/it]\u001b[A\n",
            "Validation Subset:  20%|█████████                                    | 2/10 [00:07<00:23,  2.99s/it]\u001b[A\n",
            "Validation Subset:  30%|█████████████▌                               | 3/10 [00:10<00:21,  3.11s/it]\u001b[A\n",
            "Validation Subset:  40%|██████████████████                           | 4/10 [00:10<00:11,  1.98s/it]\u001b[A\n",
            "Validation Subset:  50%|██████████████████████▌                      | 5/10 [00:13<00:11,  2.36s/it]\u001b[A\n",
            "Validation Subset:  60%|███████████████████████████                  | 6/10 [00:13<00:06,  1.64s/it]\u001b[A\n",
            "Validation Subset:  70%|███████████████████████████████▍             | 7/10 [00:16<00:05,  1.81s/it]\u001b[A\n",
            "Validation Subset:  80%|████████████████████████████████████         | 8/10 [00:16<00:02,  1.31s/it]\u001b[A\n",
            "Validation Subset:  90%|████████████████████████████████████████▌    | 9/10 [00:19<00:02,  2.03s/it]\u001b[A\n",
            "Validation Subset: 100%|████████████████████████████████████████████| 10/10 [00:20<00:00,  1.47s/it]\u001b[A\n",
            "Epoch 5 Training:  17%|█████▎                          | 20/120 [01:07<13:40,  8.20s/it, loss=0.398]"
          ]
        },
        {
          "output_type": "stream",
          "name": "stdout",
          "text": [
            "🔎 Validation on val_subset after 20 batches: Loss=0.7757 Acc=0.7188\n"
          ]
        },
        {
          "output_type": "stream",
          "name": "stderr",
          "text": [
            "Epoch 5 Training:  32%|██████████▍                     | 39/120 [01:44<02:43,  2.01s/it, loss=0.113]\n",
            "Validation Subset:   0%|                                                     | 0/10 [00:00<?, ?it/s]\u001b[A\n",
            "Validation Subset:  10%|████▌                                        | 1/10 [00:06<01:00,  6.73s/it]\u001b[A\n",
            "Validation Subset:  20%|█████████                                    | 2/10 [00:07<00:23,  2.95s/it]\u001b[A\n",
            "Validation Subset:  30%|█████████████▌                               | 3/10 [00:11<00:25,  3.71s/it]\u001b[A\n",
            "Validation Subset:  40%|██████████████████                           | 4/10 [00:11<00:14,  2.34s/it]\u001b[A\n",
            "Validation Subset:  50%|██████████████████████▌                      | 5/10 [00:14<00:12,  2.48s/it]\u001b[A\n",
            "Validation Subset:  60%|███████████████████████████                  | 6/10 [00:14<00:06,  1.72s/it]\u001b[A\n",
            "Validation Subset:  70%|███████████████████████████████▍             | 7/10 [00:16<00:05,  1.80s/it]\u001b[A\n",
            "Validation Subset:  80%|████████████████████████████████████         | 8/10 [00:17<00:02,  1.31s/it]\u001b[A\n",
            "Validation Subset:  90%|████████████████████████████████████████▌    | 9/10 [00:19<00:01,  1.73s/it]\u001b[A\n",
            "Validation Subset: 100%|████████████████████████████████████████████| 10/10 [00:20<00:00,  1.30s/it]\u001b[A\n",
            "Epoch 5 Training:  33%|██████████▋                     | 40/120 [02:04<10:50,  8.13s/it, loss=0.113]"
          ]
        },
        {
          "output_type": "stream",
          "name": "stdout",
          "text": [
            "🔎 Validation on val_subset after 40 batches: Loss=0.2075 Acc=0.9000\n"
          ]
        },
        {
          "output_type": "stream",
          "name": "stderr",
          "text": [
            "Epoch 5 Training:  49%|██████████████▊               | 59/120 [02:42<02:24,  2.37s/it, loss=0.00694]\n",
            "Validation Subset:   0%|                                                     | 0/10 [00:00<?, ?it/s]\u001b[A\n",
            "Validation Subset:  10%|████▌                                        | 1/10 [00:05<00:48,  5.42s/it]\u001b[A\n",
            "Validation Subset:  20%|█████████                                    | 2/10 [00:05<00:19,  2.40s/it]\u001b[A\n",
            "Validation Subset:  30%|█████████████▌                               | 3/10 [00:10<00:23,  3.40s/it]\u001b[A\n",
            "Validation Subset:  40%|██████████████████                           | 4/10 [00:10<00:12,  2.16s/it]\u001b[A\n",
            "Validation Subset:  50%|██████████████████████▌                      | 5/10 [00:12<00:11,  2.21s/it]\u001b[A\n",
            "Validation Subset:  60%|███████████████████████████                  | 6/10 [00:13<00:06,  1.54s/it]\u001b[A\n",
            "Validation Subset:  70%|███████████████████████████████▍             | 7/10 [00:15<00:05,  1.69s/it]\u001b[A\n",
            "Validation Subset:  80%|████████████████████████████████████         | 8/10 [00:15<00:02,  1.23s/it]\u001b[A\n",
            "Validation Subset:  90%|████████████████████████████████████████▌    | 9/10 [00:17<00:01,  1.50s/it]\u001b[A\n",
            "Validation Subset: 100%|████████████████████████████████████████████| 10/10 [00:17<00:00,  1.10s/it]\u001b[A\n",
            "Epoch 5 Training:  50%|███████████████               | 60/120 [03:00<07:11,  7.20s/it, loss=0.00694]"
          ]
        },
        {
          "output_type": "stream",
          "name": "stdout",
          "text": [
            "🔎 Validation on val_subset after 60 batches: Loss=0.2415 Acc=0.9062\n"
          ]
        },
        {
          "output_type": "stream",
          "name": "stderr",
          "text": [
            "Epoch 5 Training:  66%|████████████████████▍          | 79/120 [03:40<01:37,  2.38s/it, loss=0.0955]\n",
            "Validation Subset:   0%|                                                     | 0/10 [00:00<?, ?it/s]\u001b[A\n",
            "Validation Subset:  10%|████▌                                        | 1/10 [00:05<00:45,  5.06s/it]\u001b[A\n",
            "Validation Subset:  20%|█████████                                    | 2/10 [00:05<00:17,  2.24s/it]\u001b[A\n",
            "Validation Subset:  30%|█████████████▌                               | 3/10 [00:10<00:26,  3.79s/it]\u001b[A\n",
            "Validation Subset:  40%|██████████████████                           | 4/10 [00:11<00:14,  2.40s/it]\u001b[A\n",
            "Validation Subset:  50%|██████████████████████▌                      | 5/10 [00:13<00:12,  2.45s/it]\u001b[A\n",
            "Validation Subset:  60%|███████████████████████████                  | 6/10 [00:14<00:06,  1.70s/it]\u001b[A\n",
            "Validation Subset:  70%|███████████████████████████████▍             | 7/10 [00:16<00:05,  1.84s/it]\u001b[A\n",
            "Validation Subset:  80%|████████████████████████████████████         | 8/10 [00:16<00:02,  1.34s/it]\u001b[A\n",
            "Validation Subset:  90%|████████████████████████████████████████▌    | 9/10 [00:18<00:01,  1.52s/it]\u001b[A\n",
            "Validation Subset: 100%|████████████████████████████████████████████| 10/10 [00:18<00:00,  1.12s/it]\u001b[A\n",
            "Epoch 5 Training:  67%|████████████████████▋          | 80/120 [03:58<05:12,  7.82s/it, loss=0.0955]"
          ]
        },
        {
          "output_type": "stream",
          "name": "stdout",
          "text": [
            "🔎 Validation on val_subset after 80 batches: Loss=0.2425 Acc=0.9125\n"
          ]
        },
        {
          "output_type": "stream",
          "name": "stderr",
          "text": [
            "Epoch 5 Training:  82%|█████████████████████████▌     | 99/120 [04:35<00:47,  2.27s/it, loss=0.0633]\n",
            "Validation Subset:   0%|                                                     | 0/10 [00:00<?, ?it/s]\u001b[A\n",
            "Validation Subset:  10%|████▌                                        | 1/10 [00:05<00:46,  5.14s/it]\u001b[A\n",
            "Validation Subset:  20%|█████████                                    | 2/10 [00:05<00:18,  2.27s/it]\u001b[A\n",
            "Validation Subset:  30%|█████████████▌                               | 3/10 [00:09<00:21,  3.03s/it]\u001b[A\n",
            "Validation Subset:  40%|██████████████████                           | 4/10 [00:09<00:11,  1.92s/it]\u001b[A\n",
            "Validation Subset:  50%|██████████████████████▌                      | 5/10 [00:13<00:12,  2.60s/it]\u001b[A\n",
            "Validation Subset:  60%|███████████████████████████                  | 6/10 [00:13<00:07,  1.81s/it]\u001b[A\n",
            "Validation Subset:  70%|███████████████████████████████▍             | 7/10 [00:16<00:06,  2.17s/it]\u001b[A\n",
            "Validation Subset:  80%|████████████████████████████████████         | 8/10 [00:16<00:03,  1.56s/it]\u001b[A\n",
            "Validation Subset:  90%|████████████████████████████████████████▌    | 9/10 [00:18<00:01,  1.63s/it]\u001b[A\n",
            "Validation Subset: 100%|████████████████████████████████████████████| 10/10 [00:18<00:00,  1.20s/it]\u001b[A\n",
            "Epoch 5 Training:  83%|█████████████████████████     | 100/120 [04:53<02:29,  7.49s/it, loss=0.0633]"
          ]
        },
        {
          "output_type": "stream",
          "name": "stdout",
          "text": [
            "🔎 Validation on val_subset after 100 batches: Loss=0.2083 Acc=0.9375\n"
          ]
        },
        {
          "output_type": "stream",
          "name": "stderr",
          "text": [
            "Epoch 5 Training:  99%|█████████████████████████████▊| 119/120 [05:35<00:02,  2.93s/it, loss=0.0198]\n",
            "Validation Subset:   0%|                                                     | 0/10 [00:00<?, ?it/s]\u001b[A\n",
            "Validation Subset:  10%|████▌                                        | 1/10 [00:03<00:33,  3.74s/it]\u001b[A\n",
            "Validation Subset:  20%|█████████                                    | 2/10 [00:03<00:13,  1.68s/it]\u001b[A\n",
            "Validation Subset:  30%|█████████████▌                               | 3/10 [00:05<00:12,  1.83s/it]\u001b[A\n",
            "Validation Subset:  40%|██████████████████                           | 4/10 [00:06<00:07,  1.20s/it]\u001b[A\n",
            "Validation Subset:  50%|██████████████████████▌                      | 5/10 [00:08<00:07,  1.55s/it]\u001b[A\n",
            "Validation Subset:  60%|███████████████████████████                  | 6/10 [00:08<00:04,  1.11s/it]\u001b[A\n",
            "Validation Subset:  70%|███████████████████████████████▍             | 7/10 [00:11<00:05,  1.73s/it]\u001b[A\n",
            "Validation Subset:  80%|████████████████████████████████████         | 8/10 [00:11<00:02,  1.26s/it]\u001b[A\n",
            "Validation Subset:  90%|████████████████████████████████████████▌    | 9/10 [00:14<00:01,  1.80s/it]\u001b[A\n",
            "Validation Subset: 100%|████████████████████████████████████████████| 10/10 [00:15<00:00,  1.32s/it]\u001b[A\n",
            "Epoch 5 Training: 100%|██████████████████████████████| 120/120 [05:50<00:00,  2.92s/it, loss=0.0198]\n"
          ]
        },
        {
          "output_type": "stream",
          "name": "stdout",
          "text": [
            "🔎 Validation on val_subset after 120 batches: Loss=0.2526 Acc=0.9187\n"
          ]
        },
        {
          "output_type": "stream",
          "name": "stderr",
          "text": [
            "                                                                                                    "
          ]
        },
        {
          "output_type": "stream",
          "name": "stdout",
          "text": [
            "Epoch 5 | Train Loss: 0.1001 | Train Acc: 0.9682 | Val Loss: 0.3704 | Val Acc: 0.8812\n"
          ]
        },
        {
          "output_type": "stream",
          "name": "stderr",
          "text": [
            "Epoch 6 Training:  16%|█████                           | 19/120 [00:47<02:56,  1.74s/it, loss=0.161]\n",
            "Validation Subset:   0%|                                                     | 0/10 [00:00<?, ?it/s]\u001b[A\n",
            "Validation Subset:  10%|████▌                                        | 1/10 [00:06<00:56,  6.27s/it]\u001b[A\n",
            "Validation Subset:  20%|█████████                                    | 2/10 [00:06<00:21,  2.74s/it]\u001b[A\n",
            "Validation Subset:  30%|█████████████▌                               | 3/10 [00:09<00:21,  3.05s/it]\u001b[A\n",
            "Validation Subset:  40%|██████████████████                           | 4/10 [00:10<00:11,  1.95s/it]\u001b[A\n",
            "Validation Subset:  50%|██████████████████████▌                      | 5/10 [00:13<00:11,  2.40s/it]\u001b[A\n",
            "Validation Subset:  60%|███████████████████████████                  | 6/10 [00:13<00:06,  1.68s/it]\u001b[A\n",
            "Validation Subset:  70%|███████████████████████████████▍             | 7/10 [00:17<00:07,  2.46s/it]\u001b[A\n",
            "Validation Subset:  80%|████████████████████████████████████         | 8/10 [00:18<00:03,  1.76s/it]\u001b[A\n",
            "Validation Subset:  90%|████████████████████████████████████████▌    | 9/10 [00:19<00:01,  1.78s/it]\u001b[A\n",
            "Validation Subset: 100%|████████████████████████████████████████████| 10/10 [00:20<00:00,  1.30s/it]\u001b[A\n",
            "Epoch 6 Training:  17%|█████▎                          | 20/120 [01:07<13:49,  8.30s/it, loss=0.161]"
          ]
        },
        {
          "output_type": "stream",
          "name": "stdout",
          "text": [
            "🔎 Validation on val_subset after 20 batches: Loss=0.4805 Acc=0.8375\n"
          ]
        },
        {
          "output_type": "stream",
          "name": "stderr",
          "text": [
            "Epoch 6 Training:  32%|██████████                     | 39/120 [01:43<02:03,  1.53s/it, loss=0.0812]\n",
            "Validation Subset:   0%|                                                     | 0/10 [00:00<?, ?it/s]\u001b[A\n",
            "Validation Subset:  10%|████▌                                        | 1/10 [00:07<01:03,  7.10s/it]\u001b[A\n",
            "Validation Subset:  20%|█████████                                    | 2/10 [00:07<00:24,  3.08s/it]\u001b[A\n",
            "Validation Subset:  30%|█████████████▌                               | 3/10 [00:10<00:22,  3.20s/it]\u001b[A\n",
            "Validation Subset:  40%|██████████████████                           | 4/10 [00:10<00:12,  2.04s/it]\u001b[A\n",
            "Validation Subset:  50%|██████████████████████▌                      | 5/10 [00:14<00:12,  2.42s/it]\u001b[A\n",
            "Validation Subset:  60%|███████████████████████████                  | 6/10 [00:14<00:06,  1.69s/it]\u001b[A\n",
            "Validation Subset:  70%|███████████████████████████████▍             | 7/10 [00:17<00:06,  2.06s/it]\u001b[A\n",
            "Validation Subset:  80%|████████████████████████████████████         | 8/10 [00:17<00:03,  1.51s/it]\u001b[A\n",
            "Validation Subset:  90%|████████████████████████████████████████▌    | 9/10 [00:20<00:01,  1.99s/it]\u001b[A\n",
            "Validation Subset: 100%|████████████████████████████████████████████| 10/10 [00:20<00:00,  1.45s/it]\u001b[A\n",
            "Epoch 6 Training:  33%|██████████▎                    | 40/120 [02:04<10:34,  7.93s/it, loss=0.0812]"
          ]
        },
        {
          "output_type": "stream",
          "name": "stdout",
          "text": [
            "🔎 Validation on val_subset after 40 batches: Loss=0.3002 Acc=0.8938\n"
          ]
        },
        {
          "output_type": "stream",
          "name": "stderr",
          "text": [
            "Epoch 6 Training:  49%|███████████████▏               | 59/120 [02:40<02:14,  2.21s/it, loss=0.0153]\n",
            "Validation Subset:   0%|                                                     | 0/10 [00:00<?, ?it/s]\u001b[A\n",
            "Validation Subset:  10%|████▌                                        | 1/10 [00:06<00:56,  6.30s/it]\u001b[A\n",
            "Validation Subset:  20%|█████████                                    | 2/10 [00:06<00:22,  2.78s/it]\u001b[A\n",
            "Validation Subset:  30%|█████████████▌                               | 3/10 [00:11<00:25,  3.66s/it]\u001b[A\n",
            "Validation Subset:  40%|██████████████████                           | 4/10 [00:11<00:13,  2.31s/it]\u001b[A\n",
            "Validation Subset:  50%|██████████████████████▌                      | 5/10 [00:13<00:11,  2.25s/it]\u001b[A\n",
            "Validation Subset:  60%|███████████████████████████                  | 6/10 [00:13<00:06,  1.57s/it]\u001b[A\n",
            "Validation Subset:  70%|███████████████████████████████▍             | 7/10 [00:16<00:05,  1.73s/it]\u001b[A\n",
            "Validation Subset:  80%|████████████████████████████████████         | 8/10 [00:16<00:02,  1.26s/it]\u001b[A\n",
            "Validation Subset:  90%|████████████████████████████████████████▌    | 9/10 [00:18<00:01,  1.44s/it]\u001b[A\n",
            "Validation Subset: 100%|████████████████████████████████████████████| 10/10 [00:18<00:00,  1.07s/it]\u001b[A\n",
            "Epoch 6 Training:  50%|███████████████▌               | 60/120 [02:58<07:18,  7.30s/it, loss=0.0153]"
          ]
        },
        {
          "output_type": "stream",
          "name": "stdout",
          "text": [
            "🔎 Validation on val_subset after 60 batches: Loss=0.2190 Acc=0.9437\n"
          ]
        },
        {
          "output_type": "stream",
          "name": "stderr",
          "text": [
            "Epoch 6 Training:  66%|███████████████████▊          | 79/120 [03:37<01:33,  2.29s/it, loss=0.00192]\n",
            "Validation Subset:   0%|                                                     | 0/10 [00:00<?, ?it/s]\u001b[A\n",
            "Validation Subset:  10%|████▌                                        | 1/10 [00:04<00:43,  4.81s/it]\u001b[A\n",
            "Validation Subset:  20%|█████████                                    | 2/10 [00:05<00:17,  2.14s/it]\u001b[A\n",
            "Validation Subset:  30%|█████████████▌                               | 3/10 [00:10<00:25,  3.63s/it]\u001b[A\n",
            "Validation Subset:  40%|██████████████████                           | 4/10 [00:10<00:14,  2.36s/it]\u001b[A\n",
            "Validation Subset:  50%|██████████████████████▌                      | 5/10 [00:14<00:13,  2.73s/it]\u001b[A\n",
            "Validation Subset:  60%|███████████████████████████                  | 6/10 [00:15<00:08,  2.06s/it]\u001b[A\n",
            "Validation Subset:  70%|███████████████████████████████▍             | 7/10 [00:17<00:06,  2.17s/it]\u001b[A\n",
            "Validation Subset:  80%|████████████████████████████████████         | 8/10 [00:17<00:03,  1.58s/it]\u001b[A\n",
            "Validation Subset:  90%|████████████████████████████████████████▌    | 9/10 [00:19<00:01,  1.68s/it]\u001b[A\n",
            "Validation Subset: 100%|████████████████████████████████████████████| 10/10 [00:19<00:00,  1.23s/it]\u001b[A\n",
            "Epoch 6 Training:  67%|████████████████████          | 80/120 [03:57<05:15,  7.88s/it, loss=0.00192]"
          ]
        },
        {
          "output_type": "stream",
          "name": "stdout",
          "text": [
            "🔎 Validation on val_subset after 80 batches: Loss=0.3288 Acc=0.9125\n"
          ]
        },
        {
          "output_type": "stream",
          "name": "stderr",
          "text": [
            "Epoch 6 Training:  82%|█████████████████████████▌     | 99/120 [04:35<00:53,  2.55s/it, loss=0.0135]\n",
            "Validation Subset:   0%|                                                     | 0/10 [00:00<?, ?it/s]\u001b[A\n",
            "Validation Subset:  10%|████▌                                        | 1/10 [00:04<00:44,  4.91s/it]\u001b[A\n",
            "Validation Subset:  20%|█████████                                    | 2/10 [00:05<00:17,  2.19s/it]\u001b[A\n",
            "Validation Subset:  30%|█████████████▌                               | 3/10 [00:10<00:26,  3.78s/it]\u001b[A\n",
            "Validation Subset:  40%|██████████████████                           | 4/10 [00:11<00:14,  2.40s/it]\u001b[A\n",
            "Validation Subset:  50%|██████████████████████▌                      | 5/10 [00:14<00:13,  2.66s/it]\u001b[A\n",
            "Validation Subset:  60%|███████████████████████████                  | 6/10 [00:14<00:07,  1.84s/it]\u001b[A\n",
            "Validation Subset:  70%|███████████████████████████████▍             | 7/10 [00:16<00:05,  1.88s/it]\u001b[A\n",
            "Validation Subset:  80%|████████████████████████████████████         | 8/10 [00:16<00:02,  1.36s/it]\u001b[A\n",
            "Validation Subset:  90%|████████████████████████████████████████▌    | 9/10 [00:18<00:01,  1.51s/it]\u001b[A\n",
            "Validation Subset: 100%|████████████████████████████████████████████| 10/10 [00:18<00:00,  1.11s/it]\u001b[A\n",
            "Epoch 6 Training:  83%|█████████████████████████     | 100/120 [04:54<02:35,  7.79s/it, loss=0.0135]"
          ]
        },
        {
          "output_type": "stream",
          "name": "stdout",
          "text": [
            "🔎 Validation on val_subset after 100 batches: Loss=0.2608 Acc=0.9375\n"
          ]
        },
        {
          "output_type": "stream",
          "name": "stderr",
          "text": [
            "Epoch 6 Training:  99%|████████████████████████████▊| 119/120 [05:32<00:02,  2.63s/it, loss=0.00376]\n",
            "Validation Subset:   0%|                                                     | 0/10 [00:00<?, ?it/s]\u001b[A\n",
            "Validation Subset:  10%|████▌                                        | 1/10 [00:02<00:23,  2.60s/it]\u001b[A\n",
            "Validation Subset:  20%|█████████                                    | 2/10 [00:02<00:09,  1.22s/it]\u001b[A\n",
            "Validation Subset:  30%|█████████████▌                               | 3/10 [00:04<00:10,  1.57s/it]\u001b[A\n",
            "Validation Subset:  40%|██████████████████                           | 4/10 [00:05<00:06,  1.04s/it]\u001b[A\n",
            "Validation Subset:  50%|██████████████████████▌                      | 5/10 [00:07<00:07,  1.43s/it]\u001b[A\n",
            "Validation Subset:  60%|███████████████████████████                  | 6/10 [00:07<00:04,  1.02s/it]\u001b[A\n",
            "Validation Subset:  70%|███████████████████████████████▍             | 7/10 [00:09<00:04,  1.39s/it]\u001b[A\n",
            "Validation Subset:  80%|████████████████████████████████████         | 8/10 [00:09<00:02,  1.03s/it]\u001b[A\n",
            "Validation Subset:  90%|████████████████████████████████████████▌    | 9/10 [00:12<00:01,  1.67s/it]\u001b[A\n",
            "Validation Subset: 100%|████████████████████████████████████████████| 10/10 [00:13<00:00,  1.22s/it]\u001b[A\n",
            "Epoch 6 Training: 100%|█████████████████████████████| 120/120 [05:45<00:00,  2.88s/it, loss=0.00376]\n"
          ]
        },
        {
          "output_type": "stream",
          "name": "stdout",
          "text": [
            "🔎 Validation on val_subset after 120 batches: Loss=0.3157 Acc=0.9250\n"
          ]
        },
        {
          "output_type": "stream",
          "name": "stderr",
          "text": [
            "                                                                                                    "
          ]
        },
        {
          "output_type": "stream",
          "name": "stdout",
          "text": [
            "Epoch 6 | Train Loss: 0.0649 | Train Acc: 0.9766 | Val Loss: 0.5641 | Val Acc: 0.8766\n"
          ]
        },
        {
          "output_type": "stream",
          "name": "stderr",
          "text": [
            "Epoch 7 Training:  16%|█████                           | 19/120 [00:47<04:06,  2.44s/it, loss=0.112]\n",
            "Validation Subset:   0%|                                                     | 0/10 [00:00<?, ?it/s]\u001b[A\n",
            "Validation Subset:  10%|████▌                                        | 1/10 [00:06<00:57,  6.39s/it]\u001b[A\n",
            "Validation Subset:  20%|█████████                                    | 2/10 [00:06<00:22,  2.79s/it]\u001b[A\n",
            "Validation Subset:  30%|█████████████▌                               | 3/10 [00:10<00:22,  3.27s/it]\u001b[A\n",
            "Validation Subset:  40%|██████████████████                           | 4/10 [00:10<00:12,  2.08s/it]\u001b[A\n",
            "Validation Subset:  50%|██████████████████████▌                      | 5/10 [00:13<00:11,  2.39s/it]\u001b[A\n",
            "Validation Subset:  60%|███████████████████████████                  | 6/10 [00:13<00:06,  1.66s/it]\u001b[A\n",
            "Validation Subset:  70%|███████████████████████████████▍             | 7/10 [00:17<00:06,  2.29s/it]\u001b[A\n",
            "Validation Subset:  80%|████████████████████████████████████         | 8/10 [00:17<00:03,  1.65s/it]\u001b[A\n",
            "Validation Subset:  90%|████████████████████████████████████████▌    | 9/10 [00:20<00:01,  1.91s/it]\u001b[A\n",
            "Validation Subset: 100%|████████████████████████████████████████████| 10/10 [00:20<00:00,  1.39s/it]\u001b[A\n",
            "Epoch 7 Training:  17%|█████▎                          | 20/120 [01:08<13:34,  8.14s/it, loss=0.112]"
          ]
        },
        {
          "output_type": "stream",
          "name": "stdout",
          "text": [
            "🔎 Validation on val_subset after 20 batches: Loss=0.3744 Acc=0.9187\n"
          ]
        },
        {
          "output_type": "stream",
          "name": "stderr",
          "text": [
            "Epoch 7 Training:  32%|█████████▊                    | 39/120 [01:47<02:43,  2.02s/it, loss=0.00865]\n",
            "Validation Subset:   0%|                                                     | 0/10 [00:00<?, ?it/s]\u001b[A\n",
            "Validation Subset:  10%|████▌                                        | 1/10 [00:05<00:48,  5.37s/it]\u001b[A\n",
            "Validation Subset:  20%|█████████                                    | 2/10 [00:05<00:18,  2.36s/it]\u001b[A\n",
            "Validation Subset:  30%|█████████████▌                               | 3/10 [00:08<00:18,  2.61s/it]\u001b[A\n",
            "Validation Subset:  40%|██████████████████                           | 4/10 [00:08<00:10,  1.68s/it]\u001b[A\n",
            "Validation Subset:  50%|██████████████████████▌                      | 5/10 [00:11<00:10,  2.11s/it]\u001b[A\n",
            "Validation Subset:  60%|███████████████████████████                  | 6/10 [00:12<00:06,  1.63s/it]\u001b[A\n",
            "Validation Subset:  70%|███████████████████████████████▍             | 7/10 [00:14<00:05,  1.69s/it]\u001b[A\n",
            "Validation Subset:  80%|████████████████████████████████████         | 8/10 [00:15<00:03,  1.52s/it]\u001b[A\n",
            "Validation Subset:  90%|████████████████████████████████████████▌    | 9/10 [00:18<00:01,  1.96s/it]\u001b[A\n",
            "Validation Subset: 100%|████████████████████████████████████████████| 10/10 [00:18<00:00,  1.47s/it]\u001b[A\n",
            "Epoch 7 Training:  33%|██████████                    | 40/120 [02:05<10:49,  8.11s/it, loss=0.00865]"
          ]
        },
        {
          "output_type": "stream",
          "name": "stdout",
          "text": [
            "🔎 Validation on val_subset after 40 batches: Loss=0.4088 Acc=0.9062\n"
          ]
        },
        {
          "output_type": "stream",
          "name": "stderr",
          "text": [
            "Epoch 7 Training:  49%|██████████████▎              | 59/120 [02:41<02:11,  2.15s/it, loss=0.000615]\n",
            "Validation Subset:   0%|                                                     | 0/10 [00:00<?, ?it/s]\u001b[A\n",
            "Validation Subset:  10%|████▌                                        | 1/10 [00:06<00:57,  6.36s/it]\u001b[A\n",
            "Validation Subset:  20%|█████████                                    | 2/10 [00:06<00:22,  2.80s/it]\u001b[A\n",
            "Validation Subset:  30%|█████████████▌                               | 3/10 [00:11<00:25,  3.61s/it]\u001b[A\n",
            "Validation Subset:  40%|██████████████████                           | 4/10 [00:11<00:13,  2.29s/it]\u001b[A\n",
            "Validation Subset:  50%|██████████████████████▌                      | 5/10 [00:14<00:13,  2.66s/it]\u001b[A\n",
            "Validation Subset:  60%|███████████████████████████                  | 6/10 [00:15<00:07,  1.84s/it]\u001b[A\n",
            "Validation Subset:  70%|███████████████████████████████▍             | 7/10 [00:17<00:06,  2.13s/it]\u001b[A\n",
            "Validation Subset:  80%|████████████████████████████████████         | 8/10 [00:18<00:03,  1.53s/it]\u001b[A\n",
            "Validation Subset:  90%|████████████████████████████████████████▌    | 9/10 [00:20<00:01,  1.96s/it]\u001b[A\n",
            "Validation Subset: 100%|████████████████████████████████████████████| 10/10 [00:21<00:00,  1.43s/it]\u001b[A\n",
            "Epoch 7 Training:  50%|██████████████▌              | 60/120 [03:03<08:07,  8.12s/it, loss=0.000615]"
          ]
        },
        {
          "output_type": "stream",
          "name": "stdout",
          "text": [
            "🔎 Validation on val_subset after 60 batches: Loss=0.3056 Acc=0.9250\n"
          ]
        },
        {
          "output_type": "stream",
          "name": "stderr",
          "text": [
            "Epoch 7 Training:  66%|███████████████████          | 79/120 [03:43<01:21,  1.99s/it, loss=0.000418]\n",
            "Validation Subset:   0%|                                                     | 0/10 [00:00<?, ?it/s]\u001b[A\n",
            "Validation Subset:  10%|████▌                                        | 1/10 [00:06<01:01,  6.86s/it]\u001b[A\n",
            "Validation Subset:  20%|█████████                                    | 2/10 [00:07<00:23,  2.97s/it]\u001b[A\n",
            "Validation Subset:  30%|█████████████▌                               | 3/10 [00:10<00:20,  2.96s/it]\u001b[A\n",
            "Validation Subset:  40%|██████████████████                           | 4/10 [00:10<00:11,  1.89s/it]\u001b[A\n",
            "Validation Subset:  50%|██████████████████████▌                      | 5/10 [00:12<00:09,  1.98s/it]\u001b[A\n",
            "Validation Subset:  60%|███████████████████████████                  | 6/10 [00:12<00:05,  1.42s/it]\u001b[A\n",
            "Validation Subset:  70%|███████████████████████████████▍             | 7/10 [00:14<00:04,  1.59s/it]\u001b[A\n",
            "Validation Subset:  80%|████████████████████████████████████         | 8/10 [00:14<00:02,  1.17s/it]\u001b[A\n",
            "Validation Subset:  90%|████████████████████████████████████████▌    | 9/10 [00:17<00:01,  1.55s/it]\u001b[A\n",
            "Validation Subset: 100%|████████████████████████████████████████████| 10/10 [00:17<00:00,  1.14s/it]\u001b[A\n",
            "Epoch 7 Training:  67%|███████████████████▎         | 80/120 [04:00<04:56,  7.42s/it, loss=0.000418]"
          ]
        },
        {
          "output_type": "stream",
          "name": "stdout",
          "text": [
            "🔎 Validation on val_subset after 80 batches: Loss=0.3795 Acc=0.9062\n"
          ]
        },
        {
          "output_type": "stream",
          "name": "stderr",
          "text": [
            "Epoch 7 Training:  82%|████████████████████████▊     | 99/120 [04:36<00:50,  2.40s/it, loss=0.00346]\n",
            "Validation Subset:   0%|                                                     | 0/10 [00:00<?, ?it/s]\u001b[A\n",
            "Validation Subset:  10%|████▌                                        | 1/10 [00:05<00:46,  5.12s/it]\u001b[A\n",
            "Validation Subset:  20%|█████████                                    | 2/10 [00:05<00:18,  2.26s/it]\u001b[A\n",
            "Validation Subset:  30%|█████████████▌                               | 3/10 [00:10<00:26,  3.79s/it]\u001b[A\n",
            "Validation Subset:  40%|██████████████████                           | 4/10 [00:11<00:14,  2.41s/it]\u001b[A\n",
            "Validation Subset:  50%|██████████████████████▌                      | 5/10 [00:14<00:13,  2.64s/it]\u001b[A\n",
            "Validation Subset:  60%|███████████████████████████                  | 6/10 [00:14<00:07,  1.82s/it]\u001b[A\n",
            "Validation Subset:  70%|███████████████████████████████▍             | 7/10 [00:16<00:05,  1.92s/it]\u001b[A\n",
            "Validation Subset:  80%|████████████████████████████████████         | 8/10 [00:16<00:02,  1.38s/it]\u001b[A\n",
            "Validation Subset:  90%|████████████████████████████████████████▌    | 9/10 [00:18<00:01,  1.53s/it]\u001b[A\n",
            "Validation Subset: 100%|████████████████████████████████████████████| 10/10 [00:19<00:00,  1.13s/it]\u001b[A\n",
            "Epoch 7 Training:  83%|████████████████████████▏    | 100/120 [04:55<02:32,  7.63s/it, loss=0.00346]"
          ]
        },
        {
          "output_type": "stream",
          "name": "stdout",
          "text": [
            "🔎 Validation on val_subset after 100 batches: Loss=0.2617 Acc=0.9313\n"
          ]
        },
        {
          "output_type": "stream",
          "name": "stderr",
          "text": [
            "Epoch 7 Training:  99%|████████████████████████████▊| 119/120 [05:31<00:02,  2.09s/it, loss=0.00878]\n",
            "Validation Subset:   0%|                                                     | 0/10 [00:00<?, ?it/s]\u001b[A\n",
            "Validation Subset:  10%|████▌                                        | 1/10 [00:02<00:25,  2.82s/it]\u001b[A\n",
            "Validation Subset:  20%|█████████                                    | 2/10 [00:03<00:10,  1.31s/it]\u001b[A\n",
            "Validation Subset:  30%|█████████████▌                               | 3/10 [00:05<00:11,  1.62s/it]\u001b[A\n",
            "Validation Subset:  40%|██████████████████                           | 4/10 [00:05<00:06,  1.07s/it]\u001b[A\n",
            "Validation Subset:  50%|██████████████████████▌                      | 5/10 [00:07<00:07,  1.51s/it]\u001b[A\n",
            "Validation Subset:  60%|███████████████████████████                  | 6/10 [00:07<00:04,  1.08s/it]\u001b[A\n",
            "Validation Subset:  70%|███████████████████████████████▍             | 7/10 [00:10<00:04,  1.44s/it]\u001b[A\n",
            "Validation Subset:  80%|████████████████████████████████████         | 8/10 [00:10<00:02,  1.06s/it]\u001b[A\n",
            "Validation Subset:  90%|████████████████████████████████████████▌    | 9/10 [00:12<00:01,  1.54s/it]\u001b[A\n",
            "Validation Subset: 100%|████████████████████████████████████████████| 10/10 [00:13<00:00,  1.13s/it]\u001b[A\n",
            "Epoch 7 Training: 100%|█████████████████████████████| 120/120 [05:44<00:00,  2.87s/it, loss=0.00878]\n"
          ]
        },
        {
          "output_type": "stream",
          "name": "stdout",
          "text": [
            "🔎 Validation on val_subset after 120 batches: Loss=0.3057 Acc=0.9187\n"
          ]
        },
        {
          "output_type": "stream",
          "name": "stderr",
          "text": [
            "                                                                                                    "
          ]
        },
        {
          "output_type": "stream",
          "name": "stdout",
          "text": [
            "Epoch 7 | Train Loss: 0.0324 | Train Acc: 0.9917 | Val Loss: 0.5217 | Val Acc: 0.8812\n"
          ]
        },
        {
          "output_type": "stream",
          "name": "stderr",
          "text": [
            "Epoch 8 Training:  16%|█████▏                           | 19/120 [00:46<03:37,  2.15s/it, loss=0.23]\n",
            "Validation Subset:   0%|                                                     | 0/10 [00:00<?, ?it/s]\u001b[A\n",
            "Validation Subset:  10%|████▌                                        | 1/10 [00:07<01:05,  7.23s/it]\u001b[A\n",
            "Validation Subset:  20%|█████████                                    | 2/10 [00:07<00:24,  3.12s/it]\u001b[A\n",
            "Validation Subset:  30%|█████████████▌                               | 3/10 [00:11<00:24,  3.55s/it]\u001b[A\n",
            "Validation Subset:  40%|██████████████████                           | 4/10 [00:11<00:13,  2.25s/it]\u001b[A\n",
            "Validation Subset:  50%|██████████████████████▌                      | 5/10 [00:14<00:12,  2.42s/it]\u001b[A\n",
            "Validation Subset:  60%|███████████████████████████                  | 6/10 [00:14<00:06,  1.68s/it]\u001b[A\n",
            "Validation Subset:  70%|███████████████████████████████▍             | 7/10 [00:17<00:06,  2.08s/it]\u001b[A\n",
            "Validation Subset:  80%|████████████████████████████████████         | 8/10 [00:17<00:03,  1.50s/it]\u001b[A\n",
            "Validation Subset:  90%|████████████████████████████████████████▌    | 9/10 [00:21<00:01,  1.99s/it]\u001b[A\n",
            "Validation Subset: 100%|████████████████████████████████████████████| 10/10 [00:21<00:00,  1.45s/it]\u001b[A\n",
            "Epoch 8 Training:  17%|█████▌                           | 20/120 [01:07<14:02,  8.42s/it, loss=0.23]"
          ]
        },
        {
          "output_type": "stream",
          "name": "stdout",
          "text": [
            "🔎 Validation on val_subset after 20 batches: Loss=0.4230 Acc=0.8812\n"
          ]
        },
        {
          "output_type": "stream",
          "name": "stderr",
          "text": [
            "Epoch 8 Training:  32%|██████████                     | 39/120 [01:46<03:07,  2.31s/it, loss=0.0238]\n",
            "Validation Subset:   0%|                                                     | 0/10 [00:00<?, ?it/s]\u001b[A\n",
            "Validation Subset:  10%|████▌                                        | 1/10 [00:05<00:51,  5.77s/it]\u001b[A\n",
            "Validation Subset:  20%|█████████                                    | 2/10 [00:06<00:20,  2.52s/it]\u001b[A\n",
            "Validation Subset:  30%|█████████████▌                               | 3/10 [00:08<00:18,  2.69s/it]\u001b[A\n",
            "Validation Subset:  40%|██████████████████                           | 4/10 [00:09<00:10,  1.73s/it]\u001b[A\n",
            "Validation Subset:  50%|██████████████████████▌                      | 5/10 [00:12<00:11,  2.34s/it]\u001b[A\n",
            "Validation Subset:  60%|███████████████████████████                  | 6/10 [00:12<00:06,  1.63s/it]\u001b[A\n",
            "Validation Subset:  70%|███████████████████████████████▍             | 7/10 [00:15<00:06,  2.12s/it]\u001b[A\n",
            "Validation Subset:  80%|████████████████████████████████████         | 8/10 [00:16<00:03,  1.52s/it]\u001b[A\n",
            "Validation Subset:  90%|████████████████████████████████████████▌    | 9/10 [00:19<00:02,  2.03s/it]\u001b[A\n",
            "Validation Subset: 100%|████████████████████████████████████████████| 10/10 [00:19<00:00,  1.47s/it]\u001b[A\n",
            "Epoch 8 Training:  33%|██████████▎                    | 40/120 [02:06<11:23,  8.54s/it, loss=0.0238]"
          ]
        },
        {
          "output_type": "stream",
          "name": "stdout",
          "text": [
            "🔎 Validation on val_subset after 40 batches: Loss=0.4549 Acc=0.8938\n"
          ]
        },
        {
          "output_type": "stream",
          "name": "stderr",
          "text": [
            "Epoch 8 Training:  49%|██████████████▎              | 59/120 [02:43<02:07,  2.08s/it, loss=0.000661]\n",
            "Validation Subset:   0%|                                                     | 0/10 [00:00<?, ?it/s]\u001b[A\n",
            "Validation Subset:  10%|████▌                                        | 1/10 [00:06<01:00,  6.77s/it]\u001b[A\n",
            "Validation Subset:  20%|█████████                                    | 2/10 [00:07<00:23,  2.96s/it]\u001b[A\n",
            "Validation Subset:  30%|█████████████▌                               | 3/10 [00:11<00:24,  3.45s/it]\u001b[A\n",
            "Validation Subset:  40%|██████████████████                           | 4/10 [00:11<00:13,  2.19s/it]\u001b[A\n",
            "Validation Subset:  50%|██████████████████████▌                      | 5/10 [00:13<00:10,  2.17s/it]\u001b[A\n",
            "Validation Subset:  60%|███████████████████████████                  | 6/10 [00:13<00:06,  1.52s/it]\u001b[A\n",
            "Validation Subset:  70%|███████████████████████████████▍             | 7/10 [00:15<00:05,  1.69s/it]\u001b[A\n",
            "Validation Subset:  80%|████████████████████████████████████         | 8/10 [00:16<00:02,  1.23s/it]\u001b[A\n",
            "Validation Subset:  90%|████████████████████████████████████████▌    | 9/10 [00:18<00:01,  1.69s/it]\u001b[A\n",
            "Validation Subset: 100%|████████████████████████████████████████████| 10/10 [00:18<00:00,  1.24s/it]\u001b[A\n",
            "Epoch 8 Training:  50%|██████████████▌              | 60/120 [03:02<07:24,  7.40s/it, loss=0.000661]"
          ]
        },
        {
          "output_type": "stream",
          "name": "stdout",
          "text": [
            "🔎 Validation on val_subset after 60 batches: Loss=0.4664 Acc=0.8875\n"
          ]
        },
        {
          "output_type": "stream",
          "name": "stderr",
          "text": [
            "Epoch 8 Training:  66%|████████████████████▍          | 79/120 [03:38<01:30,  2.22s/it, loss=0.0434]\n",
            "Validation Subset:   0%|                                                     | 0/10 [00:00<?, ?it/s]\u001b[A\n",
            "Validation Subset:  10%|████▌                                        | 1/10 [00:05<00:45,  5.11s/it]\u001b[A\n",
            "Validation Subset:  20%|█████████                                    | 2/10 [00:05<00:18,  2.26s/it]\u001b[A\n",
            "Validation Subset:  30%|█████████████▌                               | 3/10 [00:11<00:27,  3.89s/it]\u001b[A\n",
            "Validation Subset:  40%|██████████████████                           | 4/10 [00:11<00:14,  2.46s/it]\u001b[A\n",
            "Validation Subset:  50%|██████████████████████▌                      | 5/10 [00:13<00:12,  2.43s/it]\u001b[A\n",
            "Validation Subset:  60%|███████████████████████████                  | 6/10 [00:14<00:06,  1.69s/it]\u001b[A\n",
            "Validation Subset:  70%|███████████████████████████████▍             | 7/10 [00:16<00:05,  1.84s/it]\u001b[A\n",
            "Validation Subset:  80%|████████████████████████████████████         | 8/10 [00:16<00:02,  1.33s/it]\u001b[A\n",
            "Validation Subset:  90%|████████████████████████████████████████▌    | 9/10 [00:18<00:01,  1.55s/it]\u001b[A\n",
            "Validation Subset: 100%|████████████████████████████████████████████| 10/10 [00:18<00:00,  1.14s/it]\u001b[A\n",
            "Epoch 8 Training:  67%|████████████████████▋          | 80/120 [03:56<05:09,  7.74s/it, loss=0.0434]"
          ]
        },
        {
          "output_type": "stream",
          "name": "stdout",
          "text": [
            "🔎 Validation on val_subset after 80 batches: Loss=0.1784 Acc=0.9500\n"
          ]
        },
        {
          "output_type": "stream",
          "name": "stderr",
          "text": [
            "Epoch 8 Training:  82%|████████████████████████▊     | 99/120 [04:35<00:49,  2.35s/it, loss=0.00398]\n",
            "Validation Subset:   0%|                                                     | 0/10 [00:00<?, ?it/s]\u001b[A\n",
            "Validation Subset:  10%|████▌                                        | 1/10 [00:04<00:43,  4.82s/it]\u001b[A\n",
            "Validation Subset:  20%|█████████                                    | 2/10 [00:05<00:17,  2.15s/it]\u001b[A\n",
            "Validation Subset:  30%|█████████████▌                               | 3/10 [00:08<00:20,  2.94s/it]\u001b[A\n",
            "Validation Subset:  40%|██████████████████                           | 4/10 [00:09<00:11,  1.89s/it]\u001b[A\n",
            "Validation Subset:  50%|██████████████████████▌                      | 5/10 [00:15<00:16,  3.35s/it]\u001b[A\n",
            "Validation Subset:  60%|███████████████████████████                  | 6/10 [00:15<00:09,  2.29s/it]\u001b[A\n",
            "Validation Subset:  70%|███████████████████████████████▍             | 7/10 [00:17<00:06,  2.22s/it]\u001b[A\n",
            "Validation Subset:  80%|████████████████████████████████████         | 8/10 [00:17<00:03,  1.59s/it]\u001b[A\n",
            "Validation Subset:  90%|████████████████████████████████████████▌    | 9/10 [00:19<00:01,  1.65s/it]\u001b[A\n",
            "Validation Subset: 100%|████████████████████████████████████████████| 10/10 [00:19<00:00,  1.21s/it]\u001b[A\n",
            "Epoch 8 Training:  83%|████████████████████████▏    | 100/120 [04:54<02:36,  7.83s/it, loss=0.00398]"
          ]
        },
        {
          "output_type": "stream",
          "name": "stdout",
          "text": [
            "🔎 Validation on val_subset after 100 batches: Loss=0.2582 Acc=0.9187\n"
          ]
        },
        {
          "output_type": "stream",
          "name": "stderr",
          "text": [
            "Epoch 8 Training:  99%|█████████████████████████████▊| 119/120 [05:33<00:01,  1.90s/it, loss=0.0341]\n",
            "Validation Subset:   0%|                                                     | 0/10 [00:00<?, ?it/s]\u001b[A\n",
            "Validation Subset:  10%|████▌                                        | 1/10 [00:02<00:23,  2.57s/it]\u001b[A\n",
            "Validation Subset:  20%|█████████                                    | 2/10 [00:02<00:09,  1.20s/it]\u001b[A\n",
            "Validation Subset:  30%|█████████████▌                               | 3/10 [00:04<00:10,  1.53s/it]\u001b[A\n",
            "Validation Subset:  40%|██████████████████                           | 4/10 [00:04<00:06,  1.02s/it]\u001b[A\n",
            "Validation Subset:  50%|██████████████████████▌                      | 5/10 [00:07<00:07,  1.45s/it]\u001b[A\n",
            "Validation Subset:  60%|███████████████████████████                  | 6/10 [00:07<00:04,  1.04s/it]\u001b[A\n",
            "Validation Subset:  70%|███████████████████████████████▍             | 7/10 [00:09<00:04,  1.36s/it]\u001b[A\n",
            "Validation Subset:  80%|████████████████████████████████████         | 8/10 [00:09<00:02,  1.00s/it]\u001b[A\n",
            "Validation Subset:  90%|████████████████████████████████████████▌    | 9/10 [00:13<00:01,  1.75s/it]\u001b[A\n",
            "Validation Subset: 100%|████████████████████████████████████████████| 10/10 [00:13<00:00,  1.28s/it]\u001b[A\n",
            "Epoch 8 Training: 100%|██████████████████████████████| 120/120 [05:46<00:00,  2.89s/it, loss=0.0341]\n"
          ]
        },
        {
          "output_type": "stream",
          "name": "stdout",
          "text": [
            "🔎 Validation on val_subset after 120 batches: Loss=0.3480 Acc=0.9125\n"
          ]
        },
        {
          "output_type": "stream",
          "name": "stderr",
          "text": [
            "                                                                                                    "
          ]
        },
        {
          "output_type": "stream",
          "name": "stdout",
          "text": [
            "Epoch 8 | Train Loss: 0.0474 | Train Acc: 0.9812 | Val Loss: 0.5145 | Val Acc: 0.8750\n"
          ]
        },
        {
          "output_type": "stream",
          "name": "stderr",
          "text": [
            "Epoch 9 Training:  16%|████▉                          | 19/120 [00:45<03:53,  2.31s/it, loss=0.0132]\n",
            "Validation Subset:   0%|                                                     | 0/10 [00:00<?, ?it/s]\u001b[A\n",
            "Validation Subset:  10%|████▌                                        | 1/10 [00:07<01:03,  7.00s/it]\u001b[A\n",
            "Validation Subset:  20%|█████████                                    | 2/10 [00:07<00:24,  3.04s/it]\u001b[A\n",
            "Validation Subset:  30%|█████████████▌                               | 3/10 [00:11<00:24,  3.44s/it]\u001b[A\n",
            "Validation Subset:  40%|██████████████████                           | 4/10 [00:11<00:13,  2.18s/it]\u001b[A\n",
            "Validation Subset:  50%|██████████████████████▌                      | 5/10 [00:14<00:11,  2.39s/it]\u001b[A\n",
            "Validation Subset:  60%|███████████████████████████                  | 6/10 [00:14<00:06,  1.66s/it]\u001b[A\n",
            "Validation Subset:  70%|███████████████████████████████▍             | 7/10 [00:16<00:05,  1.89s/it]\u001b[A\n",
            "Validation Subset:  80%|████████████████████████████████████         | 8/10 [00:17<00:02,  1.37s/it]\u001b[A\n",
            "Validation Subset:  90%|████████████████████████████████████████▌    | 9/10 [00:20<00:02,  2.01s/it]\u001b[A\n",
            "Validation Subset: 100%|████████████████████████████████████████████| 10/10 [00:20<00:00,  1.46s/it]\u001b[A\n",
            "Epoch 9 Training:  17%|█████▏                         | 20/120 [01:06<13:29,  8.09s/it, loss=0.0132]"
          ]
        },
        {
          "output_type": "stream",
          "name": "stdout",
          "text": [
            "🔎 Validation on val_subset after 20 batches: Loss=0.5437 Acc=0.8750\n"
          ]
        },
        {
          "output_type": "stream",
          "name": "stderr",
          "text": [
            "Epoch 9 Training:  32%|█████████▊                    | 39/120 [01:45<02:58,  2.20s/it, loss=0.00162]\n",
            "Validation Subset:   0%|                                                     | 0/10 [00:00<?, ?it/s]\u001b[A\n",
            "Validation Subset:  10%|████▌                                        | 1/10 [00:06<01:02,  6.99s/it]\u001b[A\n",
            "Validation Subset:  20%|█████████                                    | 2/10 [00:07<00:24,  3.04s/it]\u001b[A\n",
            "Validation Subset:  30%|█████████████▌                               | 3/10 [00:10<00:23,  3.31s/it]\u001b[A\n",
            "Validation Subset:  40%|██████████████████                           | 4/10 [00:11<00:12,  2.10s/it]\u001b[A\n",
            "Validation Subset:  50%|██████████████████████▌                      | 5/10 [00:13<00:10,  2.19s/it]\u001b[A\n",
            "Validation Subset:  60%|███████████████████████████                  | 6/10 [00:13<00:06,  1.53s/it]\u001b[A\n",
            "Validation Subset:  70%|███████████████████████████████▍             | 7/10 [00:15<00:05,  1.77s/it]\u001b[A\n",
            "Validation Subset:  80%|████████████████████████████████████         | 8/10 [00:16<00:02,  1.29s/it]\u001b[A\n",
            "Validation Subset:  90%|████████████████████████████████████████▌    | 9/10 [00:19<00:01,  1.96s/it]\u001b[A\n",
            "Validation Subset: 100%|████████████████████████████████████████████| 10/10 [00:19<00:00,  1.43s/it]\u001b[A\n",
            "Epoch 9 Training:  33%|██████████                    | 40/120 [02:05<11:12,  8.40s/it, loss=0.00162]"
          ]
        },
        {
          "output_type": "stream",
          "name": "stdout",
          "text": [
            "🔎 Validation on val_subset after 40 batches: Loss=0.3693 Acc=0.9062\n"
          ]
        },
        {
          "output_type": "stream",
          "name": "stderr",
          "text": [
            "Epoch 9 Training:  49%|██████████████▊               | 59/120 [02:42<02:35,  2.56s/it, loss=0.00243]\n",
            "Validation Subset:   0%|                                                     | 0/10 [00:00<?, ?it/s]\u001b[A\n",
            "Validation Subset:  10%|████▌                                        | 1/10 [00:06<00:55,  6.17s/it]\u001b[A\n",
            "Validation Subset:  20%|█████████                                    | 2/10 [00:06<00:21,  2.71s/it]\u001b[A\n",
            "Validation Subset:  30%|█████████████▌                               | 3/10 [00:10<00:23,  3.42s/it]\u001b[A\n",
            "Validation Subset:  40%|██████████████████                           | 4/10 [00:11<00:13,  2.17s/it]\u001b[A\n",
            "Validation Subset:  50%|██████████████████████▌                      | 5/10 [00:14<00:12,  2.55s/it]\u001b[A\n",
            "Validation Subset:  60%|███████████████████████████                  | 6/10 [00:14<00:07,  1.77s/it]\u001b[A\n",
            "Validation Subset:  70%|███████████████████████████████▍             | 7/10 [00:16<00:05,  1.84s/it]\u001b[A\n",
            "Validation Subset:  80%|████████████████████████████████████         | 8/10 [00:16<00:02,  1.33s/it]\u001b[A\n",
            "Validation Subset:  90%|████████████████████████████████████████▌    | 9/10 [00:19<00:01,  1.66s/it]\u001b[A\n",
            "Validation Subset: 100%|████████████████████████████████████████████| 10/10 [00:19<00:00,  1.22s/it]\u001b[A\n",
            "Epoch 9 Training:  50%|███████████████               | 60/120 [03:01<07:50,  7.84s/it, loss=0.00243]"
          ]
        },
        {
          "output_type": "stream",
          "name": "stdout",
          "text": [
            "🔎 Validation on val_subset after 60 batches: Loss=0.3291 Acc=0.9375\n"
          ]
        },
        {
          "output_type": "stream",
          "name": "stderr",
          "text": [
            "Epoch 9 Training:  66%|███████████████████▊          | 79/120 [03:37<01:27,  2.14s/it, loss=0.00126]\n",
            "Validation Subset:   0%|                                                     | 0/10 [00:00<?, ?it/s]\u001b[A\n",
            "Validation Subset:  10%|████▌                                        | 1/10 [00:04<00:43,  4.89s/it]\u001b[A\n",
            "Validation Subset:  20%|█████████                                    | 2/10 [00:05<00:17,  2.17s/it]\u001b[A\n",
            "Validation Subset:  30%|█████████████▌                               | 3/10 [00:10<00:25,  3.60s/it]\u001b[A\n",
            "Validation Subset:  40%|██████████████████                           | 4/10 [00:10<00:13,  2.29s/it]\u001b[A\n",
            "Validation Subset:  50%|██████████████████████▌                      | 5/10 [00:14<00:14,  2.98s/it]\u001b[A\n",
            "Validation Subset:  60%|███████████████████████████                  | 6/10 [00:15<00:08,  2.05s/it]\u001b[A\n",
            "Validation Subset:  70%|███████████████████████████████▍             | 7/10 [00:17<00:06,  2.22s/it]\u001b[A\n",
            "Validation Subset:  80%|████████████████████████████████████         | 8/10 [00:18<00:03,  1.59s/it]\u001b[A\n",
            "Validation Subset:  90%|████████████████████████████████████████▌    | 9/10 [00:19<00:01,  1.69s/it]\u001b[A\n",
            "Validation Subset: 100%|████████████████████████████████████████████| 10/10 [00:20<00:00,  1.23s/it]\u001b[A\n",
            "Epoch 9 Training:  67%|████████████████████          | 80/120 [03:57<05:11,  7.79s/it, loss=0.00126]"
          ]
        },
        {
          "output_type": "stream",
          "name": "stdout",
          "text": [
            "🔎 Validation on val_subset after 80 batches: Loss=0.4728 Acc=0.8750\n"
          ]
        },
        {
          "output_type": "stream",
          "name": "stderr",
          "text": [
            "Epoch 9 Training:  82%|█████████████████████████▌     | 99/120 [04:35<00:45,  2.18s/it, loss=0.0037]\n",
            "Validation Subset:   0%|                                                     | 0/10 [00:00<?, ?it/s]\u001b[A\n",
            "Validation Subset:  10%|████▌                                        | 1/10 [00:05<00:45,  5.07s/it]\u001b[A\n",
            "Validation Subset:  20%|█████████                                    | 2/10 [00:05<00:17,  2.24s/it]\u001b[A\n",
            "Validation Subset:  30%|█████████████▌                               | 3/10 [00:09<00:21,  3.03s/it]\u001b[A\n",
            "Validation Subset:  40%|██████████████████                           | 4/10 [00:09<00:11,  1.95s/it]\u001b[A\n",
            "Validation Subset:  50%|██████████████████████▌                      | 5/10 [00:14<00:15,  3.07s/it]\u001b[A\n",
            "Validation Subset:  60%|███████████████████████████                  | 6/10 [00:14<00:08,  2.11s/it]\u001b[A\n",
            "Validation Subset:  70%|███████████████████████████████▍             | 7/10 [00:16<00:06,  2.02s/it]\u001b[A\n",
            "Validation Subset:  80%|████████████████████████████████████         | 8/10 [00:16<00:02,  1.45s/it]\u001b[A\n",
            "Validation Subset:  90%|████████████████████████████████████████▌    | 9/10 [00:18<00:01,  1.59s/it]\u001b[A\n",
            "Validation Subset: 100%|████████████████████████████████████████████| 10/10 [00:19<00:00,  1.17s/it]\u001b[A\n",
            "Epoch 9 Training:  83%|█████████████████████████     | 100/120 [04:54<02:41,  8.06s/it, loss=0.0037]"
          ]
        },
        {
          "output_type": "stream",
          "name": "stdout",
          "text": [
            "🔎 Validation on val_subset after 100 batches: Loss=0.2483 Acc=0.9375\n"
          ]
        },
        {
          "output_type": "stream",
          "name": "stderr",
          "text": [
            "Epoch 9 Training:  99%|████████████████████████████▊| 119/120 [05:28<00:01,  1.85s/it, loss=0.00555]\n",
            "Validation Subset:   0%|                                                     | 0/10 [00:00<?, ?it/s]\u001b[A\n",
            "Validation Subset:  10%|████▌                                        | 1/10 [00:04<00:39,  4.43s/it]\u001b[A\n",
            "Validation Subset:  20%|█████████                                    | 2/10 [00:04<00:15,  1.96s/it]\u001b[A\n",
            "Validation Subset:  30%|█████████████▌                               | 3/10 [00:06<00:14,  2.01s/it]\u001b[A\n",
            "Validation Subset:  40%|██████████████████                           | 4/10 [00:06<00:07,  1.31s/it]\u001b[A\n",
            "Validation Subset:  50%|██████████████████████▌                      | 5/10 [00:09<00:08,  1.60s/it]\u001b[A\n",
            "Validation Subset:  60%|███████████████████████████                  | 6/10 [00:09<00:04,  1.14s/it]\u001b[A\n",
            "Validation Subset:  70%|███████████████████████████████▍             | 7/10 [00:11<00:04,  1.41s/it]\u001b[A\n",
            "Validation Subset:  80%|████████████████████████████████████         | 8/10 [00:11<00:02,  1.04s/it]\u001b[A\n",
            "Validation Subset:  90%|████████████████████████████████████████▌    | 9/10 [00:13<00:01,  1.30s/it]\u001b[A\n",
            "Validation Subset: 100%|████████████████████████████████████████████| 10/10 [00:13<00:00,  1.03it/s]\u001b[A\n",
            "Epoch 9 Training: 100%|█████████████████████████████| 120/120 [05:42<00:00,  2.85s/it, loss=0.00555]\n"
          ]
        },
        {
          "output_type": "stream",
          "name": "stdout",
          "text": [
            "🔎 Validation on val_subset after 120 batches: Loss=0.3593 Acc=0.9062\n"
          ]
        },
        {
          "output_type": "stream",
          "name": "stderr",
          "text": [
            "                                                                                                    "
          ]
        },
        {
          "output_type": "stream",
          "name": "stdout",
          "text": [
            "Epoch 9 | Train Loss: 0.0336 | Train Acc: 0.9849 | Val Loss: 0.5347 | Val Acc: 0.8828\n",
            "⏹ Early stopping triggered at epoch 9.\n"
          ]
        },
        {
          "output_type": "stream",
          "name": "stderr",
          "text": [
            "\r"
          ]
        },
        {
          "output_type": "display_data",
          "data": {
            "text/plain": [
              "<IPython.core.display.HTML object>"
            ],
            "text/html": []
          },
          "metadata": {}
        },
        {
          "output_type": "display_data",
          "data": {
            "text/plain": [
              "<IPython.core.display.HTML object>"
            ],
            "text/html": [
              "<br>    <style><br>        .wandb-row {<br>            display: flex;<br>            flex-direction: row;<br>            flex-wrap: wrap;<br>            justify-content: flex-start;<br>            width: 100%;<br>        }<br>        .wandb-col {<br>            display: flex;<br>            flex-direction: column;<br>            flex-basis: 100%;<br>            flex: 1;<br>            padding: 10px;<br>        }<br>    </style><br><div class=\"wandb-row\"><div class=\"wandb-col\"><h3>Run history:</h3><br/><table class=\"wandb\"><tr><td>train/accuracy_batch</td><td>▁▃▃▄▄▄▄▄▅▆▆▆▆▆▇▇▇▇▇█▇▆▇▇▇▇▇▇▇███████████</td></tr><tr><td>train/accuracy_epoch</td><td>▁▃▅▆▇▇███</td></tr><tr><td>train/loss_batch</td><td>█▆▄▄▄▅▃▅▃▁▂▂▃▃▃▂▃▁▁▁▁▁▁▂▁▃▁▁▂▁▁▁▁▁▂▃▁▁▁▁</td></tr><tr><td>train/loss_epoch</td><td>█▆▄▃▂▂▁▁▁</td></tr><tr><td>val/accuracy_epoch</td><td>▁▆▁█▆▅▆▅▇</td></tr><tr><td>val/loss_epoch</td><td>▁▁▁▂▄█▇▇▇</td></tr><tr><td>val_subset/accuracy</td><td>██▁▇▅█▆▆▆▆▆▆▅▄▇█▆▆▂▇▇▆█▇▇▇▇▇▇▇▆▆▆█▇▆▇▇▆▇</td></tr><tr><td>val_subset/loss</td><td>▅▂▂▂▁▁▁▁▂▂▂▂▂▂▃▂▂▂█▂▂▂▅▂▃▃▄▄▃▄▃▄▅▅▂▃▆▄▅▄</td></tr></table><br/></div><div class=\"wandb-col\"><h3>Run summary:</h3><br/><table class=\"wandb\"><tr><td>train/accuracy_batch</td><td>0.9849</td></tr><tr><td>train/accuracy_epoch</td><td>0.9849</td></tr><tr><td>train/loss_batch</td><td>0.00555</td></tr><tr><td>train/loss_epoch</td><td>0.0336</td></tr><tr><td>val/accuracy_epoch</td><td>0.88281</td></tr><tr><td>val/loss_epoch</td><td>0.53466</td></tr><tr><td>val_subset/accuracy</td><td>0.90625</td></tr><tr><td>val_subset/loss</td><td>0.35931</td></tr></table><br/></div></div>"
            ]
          },
          "metadata": {}
        },
        {
          "output_type": "display_data",
          "data": {
            "text/plain": [
              "<IPython.core.display.HTML object>"
            ],
            "text/html": [
              " View run <strong style=\"color:#cdcd00\">bumbling-microwave-1</strong> at: <a href='https://wandb.ai/jeevan-neupane002-nepal-applied-/Eye_Disease_Pred_b4/runs/mdul7z6a' target=\"_blank\">https://wandb.ai/jeevan-neupane002-nepal-applied-/Eye_Disease_Pred_b4/runs/mdul7z6a</a><br> View project at: <a href='https://wandb.ai/jeevan-neupane002-nepal-applied-/Eye_Disease_Pred_b4' target=\"_blank\">https://wandb.ai/jeevan-neupane002-nepal-applied-/Eye_Disease_Pred_b4</a><br>Synced 5 W&B file(s), 0 media file(s), 0 artifact file(s) and 0 other file(s)"
            ]
          },
          "metadata": {}
        },
        {
          "output_type": "display_data",
          "data": {
            "text/plain": [
              "<IPython.core.display.HTML object>"
            ],
            "text/html": [
              "Find logs at: <code>./wandb/run-20250429_020748-mdul7z6a/logs</code>"
            ]
          },
          "metadata": {}
        }
      ]
    },
    {
      "cell_type": "code",
      "source": [
        "import torch\n",
        "import wandb\n",
        "import numpy as np\n",
        "import matplotlib.pyplot as plt\n",
        "from sklearn.metrics import confusion_matrix\n",
        "import seaborn as sns\n",
        "from tqdm import tqdm\n",
        "\n",
        "# --- Initialize wandb ---\n",
        "wandb.init(project=\"Eye_Disease_Pred_b4\")\n",
        "\n",
        "# --- Set model to evaluation mode ---\n",
        "model.eval()\n",
        "\n",
        "# --- Initialize trackers ---\n",
        "test_loss = 0.0\n",
        "correct = 0\n",
        "total = 0\n",
        "all_preds = []\n",
        "all_labels = []\n",
        "\n",
        "## --- Test Loop ---\n",
        "test_loader_tqdm = tqdm(enumerate(test_loader), total=len(test_loader), desc=\"Testing\", ncols=100)\n",
        "\n",
        "with torch.no_grad():\n",
        "    for batch_idx, (batch_data) in test_loader_tqdm:  # Modified line to unpack as a single tuple\n",
        "        images, labels, _ = batch_data  # Modified to correctly unpack\n",
        "        # OR\n",
        "        #images, labels = batch_data[0], batch_data[1] #Alternate fix\n",
        "\n",
        "        images = images.to(device)\n",
        "        labels = labels.to(device).unsqueeze(1)  # (B, 1)\n",
        "\n",
        "        outputs = model(images)\n",
        "        loss = criterion(outputs, labels)\n",
        "\n",
        "        batch_size = images.size(0)\n",
        "        test_loss += loss.item() * batch_size\n",
        "\n",
        "        preds = (torch.sigmoid(outputs) > 0.5)\n",
        "        correct += (preds == labels.bool()).sum().item()\n",
        "        total += batch_size\n",
        "\n",
        "        # Collect predictions for confusion matrix\n",
        "        all_preds.extend(preds.cpu().numpy())\n",
        "        all_labels.extend(labels.cpu().numpy())\n",
        "\n",
        "        # Batch-wise logging\n",
        "        batch_acc = (preds == labels.bool()).sum().item() / batch_size\n",
        "        wandb.log({\n",
        "            \"test/loss_batch\": loss.item(),\n",
        "            \"test/accuracy_batch\": batch_acc,\n",
        "        }, step=batch_idx)\n",
        "\n",
        "        # Update tqdm\n",
        "        test_loader_tqdm.set_postfix({\n",
        "            \"batch_loss\": loss.item(),\n",
        "            \"batch_acc\": batch_acc\n",
        "        })\n",
        "\n",
        "\n",
        "# --- Final Test Results ---\n",
        "avg_test_loss = test_loss / len(test_loader.dataset)\n",
        "test_accuracy = correct / total\n",
        "\n",
        "wandb.log({\n",
        "    \"test/loss_final\": avg_test_loss,\n",
        "    \"test/accuracy_final\": test_accuracy\n",
        "})\n",
        "\n",
        "print(f\"\\n✅ Test Completed: Avg Loss = {avg_test_loss:.4f}, Accuracy = {test_accuracy:.4f}\")\n",
        "\n",
        "# --- Confusion Matrix Plot ---\n",
        "cm = confusion_matrix(np.array(all_labels).astype(int), np.array(all_preds).astype(int))\n",
        "\n",
        "fig, ax = plt.subplots(figsize=(6, 5))\n",
        "sns.heatmap(cm, annot=True, fmt=\"d\", cmap=\"Blues\", ax=ax)\n",
        "ax.set_xlabel('Predicted Labels')\n",
        "ax.set_ylabel('True Labels')\n",
        "ax.set_title('Confusion Matrix')\n",
        "\n",
        "# Log confusion matrix to WandB\n",
        "wandb.log({\"Confusion_Matrix\": wandb.Image(fig)})\n",
        "\n",
        "# Finish WandB Run\n",
        "wandb.finish()\n"
      ],
      "metadata": {
        "colab": {
          "base_uri": "https://localhost:8080/",
          "height": 1000
        },
        "id": "nDvR-s0rAcOl",
        "outputId": "d2b67fe5-8337-4d2d-bb12-40729fd77ec9"
      },
      "execution_count": null,
      "outputs": [
        {
          "output_type": "display_data",
          "data": {
            "text/plain": [
              "<IPython.core.display.HTML object>"
            ],
            "text/html": [
              "Finishing previous runs because reinit is set to 'default'."
            ]
          },
          "metadata": {}
        },
        {
          "output_type": "display_data",
          "data": {
            "text/plain": [
              "<IPython.core.display.HTML object>"
            ],
            "text/html": []
          },
          "metadata": {}
        },
        {
          "output_type": "display_data",
          "data": {
            "text/plain": [
              "<IPython.core.display.HTML object>"
            ],
            "text/html": [
              "<br>    <style><br>        .wandb-row {<br>            display: flex;<br>            flex-direction: row;<br>            flex-wrap: wrap;<br>            justify-content: flex-start;<br>            width: 100%;<br>        }<br>        .wandb-col {<br>            display: flex;<br>            flex-direction: column;<br>            flex-basis: 100%;<br>            flex: 1;<br>            padding: 10px;<br>        }<br>    </style><br><div class=\"wandb-row\"><div class=\"wandb-col\"><h3>Run history:</h3><br/><table class=\"wandb\"><tr><td>test/accuracy_batch</td><td>█▁</td></tr><tr><td>test/loss_batch</td><td>▁█</td></tr></table><br/></div><div class=\"wandb-col\"><h3>Run summary:</h3><br/><table class=\"wandb\"><tr><td>test/accuracy_batch</td><td>0.9375</td></tr><tr><td>test/loss_batch</td><td>0.08916</td></tr></table><br/></div></div>"
            ]
          },
          "metadata": {}
        },
        {
          "output_type": "display_data",
          "data": {
            "text/plain": [
              "<IPython.core.display.HTML object>"
            ],
            "text/html": [
              " View run <strong style=\"color:#cdcd00\">splendid-sky-6</strong> at: <a href='https://wandb.ai/jeevan-neupane002-nepal-applied-/Eye_Disease_Prediction_3/runs/2u98ro95' target=\"_blank\">https://wandb.ai/jeevan-neupane002-nepal-applied-/Eye_Disease_Prediction_3/runs/2u98ro95</a><br> View project at: <a href='https://wandb.ai/jeevan-neupane002-nepal-applied-/Eye_Disease_Prediction_3' target=\"_blank\">https://wandb.ai/jeevan-neupane002-nepal-applied-/Eye_Disease_Prediction_3</a><br>Synced 5 W&B file(s), 0 media file(s), 0 artifact file(s) and 0 other file(s)"
            ]
          },
          "metadata": {}
        },
        {
          "output_type": "display_data",
          "data": {
            "text/plain": [
              "<IPython.core.display.HTML object>"
            ],
            "text/html": [
              "Find logs at: <code>./wandb/run-20250429_032123-2u98ro95/logs</code>"
            ]
          },
          "metadata": {}
        },
        {
          "output_type": "display_data",
          "data": {
            "text/plain": [
              "<IPython.core.display.HTML object>"
            ],
            "text/html": [
              "Tracking run with wandb version 0.19.10"
            ]
          },
          "metadata": {}
        },
        {
          "output_type": "display_data",
          "data": {
            "text/plain": [
              "<IPython.core.display.HTML object>"
            ],
            "text/html": [
              "Run data is saved locally in <code>/content/wandb/run-20250429_032156-7hsuzpgg</code>"
            ]
          },
          "metadata": {}
        },
        {
          "output_type": "display_data",
          "data": {
            "text/plain": [
              "<IPython.core.display.HTML object>"
            ],
            "text/html": [
              "Syncing run <strong><a href='https://wandb.ai/jeevan-neupane002-nepal-applied-/Eye_Disease_Pred_b4/runs/7hsuzpgg' target=\"_blank\">dazzling-flower-2</a></strong> to <a href='https://wandb.ai/jeevan-neupane002-nepal-applied-/Eye_Disease_Pred_b4' target=\"_blank\">Weights & Biases</a> (<a href='https://wandb.me/developer-guide' target=\"_blank\">docs</a>)<br>"
            ]
          },
          "metadata": {}
        },
        {
          "output_type": "display_data",
          "data": {
            "text/plain": [
              "<IPython.core.display.HTML object>"
            ],
            "text/html": [
              " View project at <a href='https://wandb.ai/jeevan-neupane002-nepal-applied-/Eye_Disease_Pred_b4' target=\"_blank\">https://wandb.ai/jeevan-neupane002-nepal-applied-/Eye_Disease_Pred_b4</a>"
            ]
          },
          "metadata": {}
        },
        {
          "output_type": "display_data",
          "data": {
            "text/plain": [
              "<IPython.core.display.HTML object>"
            ],
            "text/html": [
              " View run at <a href='https://wandb.ai/jeevan-neupane002-nepal-applied-/Eye_Disease_Pred_b4/runs/7hsuzpgg' target=\"_blank\">https://wandb.ai/jeevan-neupane002-nepal-applied-/Eye_Disease_Pred_b4/runs/7hsuzpgg</a>"
            ]
          },
          "metadata": {}
        },
        {
          "output_type": "stream",
          "name": "stderr",
          "text": [
            "Testing: 100%|███████████████████| 40/40 [04:03<00:00,  6.08s/it, batch_loss=0.672, batch_acc=0.812]\n"
          ]
        },
        {
          "output_type": "stream",
          "name": "stdout",
          "text": [
            "\n",
            "✅ Test Completed: Avg Loss = 0.2920, Accuracy = 0.9156\n"
          ]
        },
        {
          "output_type": "display_data",
          "data": {
            "text/plain": [
              "<IPython.core.display.HTML object>"
            ],
            "text/html": []
          },
          "metadata": {}
        },
        {
          "output_type": "display_data",
          "data": {
            "text/plain": [
              "<IPython.core.display.HTML object>"
            ],
            "text/html": [
              "<br>    <style><br>        .wandb-row {<br>            display: flex;<br>            flex-direction: row;<br>            flex-wrap: wrap;<br>            justify-content: flex-start;<br>            width: 100%;<br>        }<br>        .wandb-col {<br>            display: flex;<br>            flex-direction: column;<br>            flex-basis: 100%;<br>            flex: 1;<br>            padding: 10px;<br>        }<br>    </style><br><div class=\"wandb-row\"><div class=\"wandb-col\"><h3>Run history:</h3><br/><table class=\"wandb\"><tr><td>test/accuracy_batch</td><td>█▇█████▇██▆▇▆▇▇▇█▆▇█▃▇█▆▆█▆▆█▇▇██▃▆▅▆▁▅▅</td></tr><tr><td>test/accuracy_final</td><td>▁</td></tr><tr><td>test/loss_batch</td><td>▁▁▁▁▁▁▁▃▁▁▃▁▄▁▁▂▁▄▁▁▆▁▂▃▃▁▂▂▁▁▃▁▁█▅▃▃█▅▄</td></tr><tr><td>test/loss_final</td><td>▁</td></tr></table><br/></div><div class=\"wandb-col\"><h3>Run summary:</h3><br/><table class=\"wandb\"><tr><td>test/accuracy_batch</td><td>0.8125</td></tr><tr><td>test/accuracy_final</td><td>0.91563</td></tr><tr><td>test/loss_batch</td><td>0.67209</td></tr><tr><td>test/loss_final</td><td>0.29204</td></tr></table><br/></div></div>"
            ]
          },
          "metadata": {}
        },
        {
          "output_type": "display_data",
          "data": {
            "text/plain": [
              "<IPython.core.display.HTML object>"
            ],
            "text/html": [
              " View run <strong style=\"color:#cdcd00\">dazzling-flower-2</strong> at: <a href='https://wandb.ai/jeevan-neupane002-nepal-applied-/Eye_Disease_Pred_b4/runs/7hsuzpgg' target=\"_blank\">https://wandb.ai/jeevan-neupane002-nepal-applied-/Eye_Disease_Pred_b4/runs/7hsuzpgg</a><br> View project at: <a href='https://wandb.ai/jeevan-neupane002-nepal-applied-/Eye_Disease_Pred_b4' target=\"_blank\">https://wandb.ai/jeevan-neupane002-nepal-applied-/Eye_Disease_Pred_b4</a><br>Synced 5 W&B file(s), 1 media file(s), 0 artifact file(s) and 0 other file(s)"
            ]
          },
          "metadata": {}
        },
        {
          "output_type": "display_data",
          "data": {
            "text/plain": [
              "<IPython.core.display.HTML object>"
            ],
            "text/html": [
              "Find logs at: <code>./wandb/run-20250429_032156-7hsuzpgg/logs</code>"
            ]
          },
          "metadata": {}
        },
        {
          "output_type": "display_data",
          "data": {
            "text/plain": [
              "<Figure size 600x500 with 2 Axes>"
            ],
            "image/png": "[encoded data removed]"
          },
          "metadata": {}
        }
      ]
    },
    {
      "cell_type": "code",
      "source": [
        "import torch\n",
        "import numpy as np\n",
        "from sklearn.metrics import precision_score, recall_score, f1_score, accuracy_score, confusion_matrix\n",
        "import seaborn as sns\n",
        "import matplotlib.pyplot as plt\n",
        "\n",
        "# --- Calculate Precision, Recall, F1, and Accuracy ---\n",
        "precision = precision_score(np.array(all_labels).astype(int), np.array(all_preds).astype(int))\n",
        "recall = recall_score(np.array(all_labels).astype(int), np.array(all_preds).astype(int))\n",
        "f1 = f1_score(np.array(all_labels).astype(int), np.array(all_preds).astype(int))\n",
        "accuracy = accuracy_score(np.array(all_labels).astype(int), np.array(all_preds).astype(int))\n",
        "\n",
        "# --- Print Results ---\n",
        "print(f\"Precision: {precision:.4f}\")\n",
        "print(f\"Recall: {recall:.4f}\")\n",
        "print(f\"F1 Score: {f1:.4f}\")\n",
        "print(f\"Accuracy: {accuracy:.4f}\")\n",
        "\n",
        "# --- Confusion Matrix ---\n",
        "cm = confusion_matrix(np.array(all_labels).astype(int), np.array(all_preds).astype(int))\n",
        "\n",
        "# Plot confusion matrix\n",
        "fig, ax = plt.subplots(figsize=(6, 5))\n",
        "sns.heatmap(cm, annot=True, fmt=\"d\", cmap=\"Blues\", ax=ax)\n",
        "ax.set_xlabel('Predicted Labels')\n",
        "ax.set_ylabel('True Labels')\n",
        "ax.set_title('Confusion Matrix')\n",
        "\n",
        "# Show Confusion Matrix\n",
        "plt.show()\n"
      ],
      "metadata": {
        "colab": {
          "base_uri": "https://localhost:8080/",
          "height": 558
        },
        "id": "S2N9lFONEJ8n",
        "outputId": "ba9f590d-d4fa-4f32-d35d-adea25517a4a"
      },
      "execution_count": null,
      "outputs": [
        {
          "output_type": "stream",
          "name": "stdout",
          "text": [
            "Precision: 0.9829\n",
            "Recall: 0.9091\n",
            "F1 Score: 0.9446\n",
            "Accuracy: 0.9156\n"
          ]
        },
        {
          "output_type": "display_data",
          "data": {
            "text/plain": [
              "<Figure size 600x500 with 2 Axes>"
            ],
            "image/png": "[encoded data removed]"
          },
          "metadata": {}
        }
      ]
    }
  ]
}